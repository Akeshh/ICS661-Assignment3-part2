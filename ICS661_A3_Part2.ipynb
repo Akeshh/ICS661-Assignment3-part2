{
  "nbformat": 4,
  "nbformat_minor": 0,
  "metadata": {
    "colab": {
      "provenance": [],
      "gpuType": "L4",
      "mount_file_id": "1gJpOncPwXTlMSfGwKMr2dDJKVx3B7GTc",
      "authorship_tag": "ABX9TyNvpVr/6gaZaHuonEILTjFU",
      "include_colab_link": true
    },
    "kernelspec": {
      "name": "python3",
      "display_name": "Python 3"
    },
    "language_info": {
      "name": "python"
    },
    "accelerator": "GPU",
    "widgets": {
      "application/vnd.jupyter.widget-state+json": {
        "d7e992ced7224c6286d3044c6f37f8a7": {
          "model_module": "@jupyter-widgets/controls",
          "model_name": "HBoxModel",
          "model_module_version": "1.5.0",
          "state": {
            "_dom_classes": [],
            "_model_module": "@jupyter-widgets/controls",
            "_model_module_version": "1.5.0",
            "_model_name": "HBoxModel",
            "_view_count": null,
            "_view_module": "@jupyter-widgets/controls",
            "_view_module_version": "1.5.0",
            "_view_name": "HBoxView",
            "box_style": "",
            "children": [
              "IPY_MODEL_e69523dab69642e089abb77c1337d00a",
              "IPY_MODEL_36626844ccb84b58bca1e694ee8a3ab5",
              "IPY_MODEL_7e7675a8bc124223a9aae87af50aa528"
            ],
            "layout": "IPY_MODEL_c01dc16328c24ba5a0255660221370f5"
          }
        },
        "e69523dab69642e089abb77c1337d00a": {
          "model_module": "@jupyter-widgets/controls",
          "model_name": "HTMLModel",
          "model_module_version": "1.5.0",
          "state": {
            "_dom_classes": [],
            "_model_module": "@jupyter-widgets/controls",
            "_model_module_version": "1.5.0",
            "_model_name": "HTMLModel",
            "_view_count": null,
            "_view_module": "@jupyter-widgets/controls",
            "_view_module_version": "1.5.0",
            "_view_name": "HTMLView",
            "description": "",
            "description_tooltip": null,
            "layout": "IPY_MODEL_e58560947aee4678b2bf66609a14f7da",
            "placeholder": "​",
            "style": "IPY_MODEL_14e2f8a9c2fd4c10b9c32110e4e3978a",
            "value": "tokenizer_config.json: 100%"
          }
        },
        "36626844ccb84b58bca1e694ee8a3ab5": {
          "model_module": "@jupyter-widgets/controls",
          "model_name": "FloatProgressModel",
          "model_module_version": "1.5.0",
          "state": {
            "_dom_classes": [],
            "_model_module": "@jupyter-widgets/controls",
            "_model_module_version": "1.5.0",
            "_model_name": "FloatProgressModel",
            "_view_count": null,
            "_view_module": "@jupyter-widgets/controls",
            "_view_module_version": "1.5.0",
            "_view_name": "ProgressView",
            "bar_style": "success",
            "description": "",
            "description_tooltip": null,
            "layout": "IPY_MODEL_1bcd5a4910a049fcb12c3ffbbd29aa43",
            "max": 26,
            "min": 0,
            "orientation": "horizontal",
            "style": "IPY_MODEL_14728f82644c43ca9dc6f14b44eddcb5",
            "value": 26
          }
        },
        "7e7675a8bc124223a9aae87af50aa528": {
          "model_module": "@jupyter-widgets/controls",
          "model_name": "HTMLModel",
          "model_module_version": "1.5.0",
          "state": {
            "_dom_classes": [],
            "_model_module": "@jupyter-widgets/controls",
            "_model_module_version": "1.5.0",
            "_model_name": "HTMLModel",
            "_view_count": null,
            "_view_module": "@jupyter-widgets/controls",
            "_view_module_version": "1.5.0",
            "_view_name": "HTMLView",
            "description": "",
            "description_tooltip": null,
            "layout": "IPY_MODEL_3480beffde514ea1b637eb61f8fda6ab",
            "placeholder": "​",
            "style": "IPY_MODEL_7627d382ced7439f89c17224e841ef4f",
            "value": " 26.0/26.0 [00:00&lt;00:00, 2.11kB/s]"
          }
        },
        "c01dc16328c24ba5a0255660221370f5": {
          "model_module": "@jupyter-widgets/base",
          "model_name": "LayoutModel",
          "model_module_version": "1.2.0",
          "state": {
            "_model_module": "@jupyter-widgets/base",
            "_model_module_version": "1.2.0",
            "_model_name": "LayoutModel",
            "_view_count": null,
            "_view_module": "@jupyter-widgets/base",
            "_view_module_version": "1.2.0",
            "_view_name": "LayoutView",
            "align_content": null,
            "align_items": null,
            "align_self": null,
            "border": null,
            "bottom": null,
            "display": null,
            "flex": null,
            "flex_flow": null,
            "grid_area": null,
            "grid_auto_columns": null,
            "grid_auto_flow": null,
            "grid_auto_rows": null,
            "grid_column": null,
            "grid_gap": null,
            "grid_row": null,
            "grid_template_areas": null,
            "grid_template_columns": null,
            "grid_template_rows": null,
            "height": null,
            "justify_content": null,
            "justify_items": null,
            "left": null,
            "margin": null,
            "max_height": null,
            "max_width": null,
            "min_height": null,
            "min_width": null,
            "object_fit": null,
            "object_position": null,
            "order": null,
            "overflow": null,
            "overflow_x": null,
            "overflow_y": null,
            "padding": null,
            "right": null,
            "top": null,
            "visibility": null,
            "width": null
          }
        },
        "e58560947aee4678b2bf66609a14f7da": {
          "model_module": "@jupyter-widgets/base",
          "model_name": "LayoutModel",
          "model_module_version": "1.2.0",
          "state": {
            "_model_module": "@jupyter-widgets/base",
            "_model_module_version": "1.2.0",
            "_model_name": "LayoutModel",
            "_view_count": null,
            "_view_module": "@jupyter-widgets/base",
            "_view_module_version": "1.2.0",
            "_view_name": "LayoutView",
            "align_content": null,
            "align_items": null,
            "align_self": null,
            "border": null,
            "bottom": null,
            "display": null,
            "flex": null,
            "flex_flow": null,
            "grid_area": null,
            "grid_auto_columns": null,
            "grid_auto_flow": null,
            "grid_auto_rows": null,
            "grid_column": null,
            "grid_gap": null,
            "grid_row": null,
            "grid_template_areas": null,
            "grid_template_columns": null,
            "grid_template_rows": null,
            "height": null,
            "justify_content": null,
            "justify_items": null,
            "left": null,
            "margin": null,
            "max_height": null,
            "max_width": null,
            "min_height": null,
            "min_width": null,
            "object_fit": null,
            "object_position": null,
            "order": null,
            "overflow": null,
            "overflow_x": null,
            "overflow_y": null,
            "padding": null,
            "right": null,
            "top": null,
            "visibility": null,
            "width": null
          }
        },
        "14e2f8a9c2fd4c10b9c32110e4e3978a": {
          "model_module": "@jupyter-widgets/controls",
          "model_name": "DescriptionStyleModel",
          "model_module_version": "1.5.0",
          "state": {
            "_model_module": "@jupyter-widgets/controls",
            "_model_module_version": "1.5.0",
            "_model_name": "DescriptionStyleModel",
            "_view_count": null,
            "_view_module": "@jupyter-widgets/base",
            "_view_module_version": "1.2.0",
            "_view_name": "StyleView",
            "description_width": ""
          }
        },
        "1bcd5a4910a049fcb12c3ffbbd29aa43": {
          "model_module": "@jupyter-widgets/base",
          "model_name": "LayoutModel",
          "model_module_version": "1.2.0",
          "state": {
            "_model_module": "@jupyter-widgets/base",
            "_model_module_version": "1.2.0",
            "_model_name": "LayoutModel",
            "_view_count": null,
            "_view_module": "@jupyter-widgets/base",
            "_view_module_version": "1.2.0",
            "_view_name": "LayoutView",
            "align_content": null,
            "align_items": null,
            "align_self": null,
            "border": null,
            "bottom": null,
            "display": null,
            "flex": null,
            "flex_flow": null,
            "grid_area": null,
            "grid_auto_columns": null,
            "grid_auto_flow": null,
            "grid_auto_rows": null,
            "grid_column": null,
            "grid_gap": null,
            "grid_row": null,
            "grid_template_areas": null,
            "grid_template_columns": null,
            "grid_template_rows": null,
            "height": null,
            "justify_content": null,
            "justify_items": null,
            "left": null,
            "margin": null,
            "max_height": null,
            "max_width": null,
            "min_height": null,
            "min_width": null,
            "object_fit": null,
            "object_position": null,
            "order": null,
            "overflow": null,
            "overflow_x": null,
            "overflow_y": null,
            "padding": null,
            "right": null,
            "top": null,
            "visibility": null,
            "width": null
          }
        },
        "14728f82644c43ca9dc6f14b44eddcb5": {
          "model_module": "@jupyter-widgets/controls",
          "model_name": "ProgressStyleModel",
          "model_module_version": "1.5.0",
          "state": {
            "_model_module": "@jupyter-widgets/controls",
            "_model_module_version": "1.5.0",
            "_model_name": "ProgressStyleModel",
            "_view_count": null,
            "_view_module": "@jupyter-widgets/base",
            "_view_module_version": "1.2.0",
            "_view_name": "StyleView",
            "bar_color": null,
            "description_width": ""
          }
        },
        "3480beffde514ea1b637eb61f8fda6ab": {
          "model_module": "@jupyter-widgets/base",
          "model_name": "LayoutModel",
          "model_module_version": "1.2.0",
          "state": {
            "_model_module": "@jupyter-widgets/base",
            "_model_module_version": "1.2.0",
            "_model_name": "LayoutModel",
            "_view_count": null,
            "_view_module": "@jupyter-widgets/base",
            "_view_module_version": "1.2.0",
            "_view_name": "LayoutView",
            "align_content": null,
            "align_items": null,
            "align_self": null,
            "border": null,
            "bottom": null,
            "display": null,
            "flex": null,
            "flex_flow": null,
            "grid_area": null,
            "grid_auto_columns": null,
            "grid_auto_flow": null,
            "grid_auto_rows": null,
            "grid_column": null,
            "grid_gap": null,
            "grid_row": null,
            "grid_template_areas": null,
            "grid_template_columns": null,
            "grid_template_rows": null,
            "height": null,
            "justify_content": null,
            "justify_items": null,
            "left": null,
            "margin": null,
            "max_height": null,
            "max_width": null,
            "min_height": null,
            "min_width": null,
            "object_fit": null,
            "object_position": null,
            "order": null,
            "overflow": null,
            "overflow_x": null,
            "overflow_y": null,
            "padding": null,
            "right": null,
            "top": null,
            "visibility": null,
            "width": null
          }
        },
        "7627d382ced7439f89c17224e841ef4f": {
          "model_module": "@jupyter-widgets/controls",
          "model_name": "DescriptionStyleModel",
          "model_module_version": "1.5.0",
          "state": {
            "_model_module": "@jupyter-widgets/controls",
            "_model_module_version": "1.5.0",
            "_model_name": "DescriptionStyleModel",
            "_view_count": null,
            "_view_module": "@jupyter-widgets/base",
            "_view_module_version": "1.2.0",
            "_view_name": "StyleView",
            "description_width": ""
          }
        },
        "65fed6ab030a4ea681cbbc9467a1bd46": {
          "model_module": "@jupyter-widgets/controls",
          "model_name": "HBoxModel",
          "model_module_version": "1.5.0",
          "state": {
            "_dom_classes": [],
            "_model_module": "@jupyter-widgets/controls",
            "_model_module_version": "1.5.0",
            "_model_name": "HBoxModel",
            "_view_count": null,
            "_view_module": "@jupyter-widgets/controls",
            "_view_module_version": "1.5.0",
            "_view_name": "HBoxView",
            "box_style": "",
            "children": [
              "IPY_MODEL_586207b0534148079aa5280475dbe294",
              "IPY_MODEL_1fee7ccbd89643568e99c66fdc75ee8c",
              "IPY_MODEL_edbff6c70b314b1989ce9391bbb2629d"
            ],
            "layout": "IPY_MODEL_c9436293ba0748a4beec09045505fdc5"
          }
        },
        "586207b0534148079aa5280475dbe294": {
          "model_module": "@jupyter-widgets/controls",
          "model_name": "HTMLModel",
          "model_module_version": "1.5.0",
          "state": {
            "_dom_classes": [],
            "_model_module": "@jupyter-widgets/controls",
            "_model_module_version": "1.5.0",
            "_model_name": "HTMLModel",
            "_view_count": null,
            "_view_module": "@jupyter-widgets/controls",
            "_view_module_version": "1.5.0",
            "_view_name": "HTMLView",
            "description": "",
            "description_tooltip": null,
            "layout": "IPY_MODEL_8e621b882b404a73b5eb9f750dd2e512",
            "placeholder": "​",
            "style": "IPY_MODEL_eedadb0dd09847799803c8d077b73cae",
            "value": "vocab.json: 100%"
          }
        },
        "1fee7ccbd89643568e99c66fdc75ee8c": {
          "model_module": "@jupyter-widgets/controls",
          "model_name": "FloatProgressModel",
          "model_module_version": "1.5.0",
          "state": {
            "_dom_classes": [],
            "_model_module": "@jupyter-widgets/controls",
            "_model_module_version": "1.5.0",
            "_model_name": "FloatProgressModel",
            "_view_count": null,
            "_view_module": "@jupyter-widgets/controls",
            "_view_module_version": "1.5.0",
            "_view_name": "ProgressView",
            "bar_style": "success",
            "description": "",
            "description_tooltip": null,
            "layout": "IPY_MODEL_a2c0568cd00146818e5ad32771f15f6c",
            "max": 1042301,
            "min": 0,
            "orientation": "horizontal",
            "style": "IPY_MODEL_900a673afdb0468888fd7018491de816",
            "value": 1042301
          }
        },
        "edbff6c70b314b1989ce9391bbb2629d": {
          "model_module": "@jupyter-widgets/controls",
          "model_name": "HTMLModel",
          "model_module_version": "1.5.0",
          "state": {
            "_dom_classes": [],
            "_model_module": "@jupyter-widgets/controls",
            "_model_module_version": "1.5.0",
            "_model_name": "HTMLModel",
            "_view_count": null,
            "_view_module": "@jupyter-widgets/controls",
            "_view_module_version": "1.5.0",
            "_view_name": "HTMLView",
            "description": "",
            "description_tooltip": null,
            "layout": "IPY_MODEL_6055aa511e18439d87d6919a4ab3b34e",
            "placeholder": "​",
            "style": "IPY_MODEL_8bc2d4bca10241568c49283769100777",
            "value": " 1.04M/1.04M [00:00&lt;00:00, 1.63MB/s]"
          }
        },
        "c9436293ba0748a4beec09045505fdc5": {
          "model_module": "@jupyter-widgets/base",
          "model_name": "LayoutModel",
          "model_module_version": "1.2.0",
          "state": {
            "_model_module": "@jupyter-widgets/base",
            "_model_module_version": "1.2.0",
            "_model_name": "LayoutModel",
            "_view_count": null,
            "_view_module": "@jupyter-widgets/base",
            "_view_module_version": "1.2.0",
            "_view_name": "LayoutView",
            "align_content": null,
            "align_items": null,
            "align_self": null,
            "border": null,
            "bottom": null,
            "display": null,
            "flex": null,
            "flex_flow": null,
            "grid_area": null,
            "grid_auto_columns": null,
            "grid_auto_flow": null,
            "grid_auto_rows": null,
            "grid_column": null,
            "grid_gap": null,
            "grid_row": null,
            "grid_template_areas": null,
            "grid_template_columns": null,
            "grid_template_rows": null,
            "height": null,
            "justify_content": null,
            "justify_items": null,
            "left": null,
            "margin": null,
            "max_height": null,
            "max_width": null,
            "min_height": null,
            "min_width": null,
            "object_fit": null,
            "object_position": null,
            "order": null,
            "overflow": null,
            "overflow_x": null,
            "overflow_y": null,
            "padding": null,
            "right": null,
            "top": null,
            "visibility": null,
            "width": null
          }
        },
        "8e621b882b404a73b5eb9f750dd2e512": {
          "model_module": "@jupyter-widgets/base",
          "model_name": "LayoutModel",
          "model_module_version": "1.2.0",
          "state": {
            "_model_module": "@jupyter-widgets/base",
            "_model_module_version": "1.2.0",
            "_model_name": "LayoutModel",
            "_view_count": null,
            "_view_module": "@jupyter-widgets/base",
            "_view_module_version": "1.2.0",
            "_view_name": "LayoutView",
            "align_content": null,
            "align_items": null,
            "align_self": null,
            "border": null,
            "bottom": null,
            "display": null,
            "flex": null,
            "flex_flow": null,
            "grid_area": null,
            "grid_auto_columns": null,
            "grid_auto_flow": null,
            "grid_auto_rows": null,
            "grid_column": null,
            "grid_gap": null,
            "grid_row": null,
            "grid_template_areas": null,
            "grid_template_columns": null,
            "grid_template_rows": null,
            "height": null,
            "justify_content": null,
            "justify_items": null,
            "left": null,
            "margin": null,
            "max_height": null,
            "max_width": null,
            "min_height": null,
            "min_width": null,
            "object_fit": null,
            "object_position": null,
            "order": null,
            "overflow": null,
            "overflow_x": null,
            "overflow_y": null,
            "padding": null,
            "right": null,
            "top": null,
            "visibility": null,
            "width": null
          }
        },
        "eedadb0dd09847799803c8d077b73cae": {
          "model_module": "@jupyter-widgets/controls",
          "model_name": "DescriptionStyleModel",
          "model_module_version": "1.5.0",
          "state": {
            "_model_module": "@jupyter-widgets/controls",
            "_model_module_version": "1.5.0",
            "_model_name": "DescriptionStyleModel",
            "_view_count": null,
            "_view_module": "@jupyter-widgets/base",
            "_view_module_version": "1.2.0",
            "_view_name": "StyleView",
            "description_width": ""
          }
        },
        "a2c0568cd00146818e5ad32771f15f6c": {
          "model_module": "@jupyter-widgets/base",
          "model_name": "LayoutModel",
          "model_module_version": "1.2.0",
          "state": {
            "_model_module": "@jupyter-widgets/base",
            "_model_module_version": "1.2.0",
            "_model_name": "LayoutModel",
            "_view_count": null,
            "_view_module": "@jupyter-widgets/base",
            "_view_module_version": "1.2.0",
            "_view_name": "LayoutView",
            "align_content": null,
            "align_items": null,
            "align_self": null,
            "border": null,
            "bottom": null,
            "display": null,
            "flex": null,
            "flex_flow": null,
            "grid_area": null,
            "grid_auto_columns": null,
            "grid_auto_flow": null,
            "grid_auto_rows": null,
            "grid_column": null,
            "grid_gap": null,
            "grid_row": null,
            "grid_template_areas": null,
            "grid_template_columns": null,
            "grid_template_rows": null,
            "height": null,
            "justify_content": null,
            "justify_items": null,
            "left": null,
            "margin": null,
            "max_height": null,
            "max_width": null,
            "min_height": null,
            "min_width": null,
            "object_fit": null,
            "object_position": null,
            "order": null,
            "overflow": null,
            "overflow_x": null,
            "overflow_y": null,
            "padding": null,
            "right": null,
            "top": null,
            "visibility": null,
            "width": null
          }
        },
        "900a673afdb0468888fd7018491de816": {
          "model_module": "@jupyter-widgets/controls",
          "model_name": "ProgressStyleModel",
          "model_module_version": "1.5.0",
          "state": {
            "_model_module": "@jupyter-widgets/controls",
            "_model_module_version": "1.5.0",
            "_model_name": "ProgressStyleModel",
            "_view_count": null,
            "_view_module": "@jupyter-widgets/base",
            "_view_module_version": "1.2.0",
            "_view_name": "StyleView",
            "bar_color": null,
            "description_width": ""
          }
        },
        "6055aa511e18439d87d6919a4ab3b34e": {
          "model_module": "@jupyter-widgets/base",
          "model_name": "LayoutModel",
          "model_module_version": "1.2.0",
          "state": {
            "_model_module": "@jupyter-widgets/base",
            "_model_module_version": "1.2.0",
            "_model_name": "LayoutModel",
            "_view_count": null,
            "_view_module": "@jupyter-widgets/base",
            "_view_module_version": "1.2.0",
            "_view_name": "LayoutView",
            "align_content": null,
            "align_items": null,
            "align_self": null,
            "border": null,
            "bottom": null,
            "display": null,
            "flex": null,
            "flex_flow": null,
            "grid_area": null,
            "grid_auto_columns": null,
            "grid_auto_flow": null,
            "grid_auto_rows": null,
            "grid_column": null,
            "grid_gap": null,
            "grid_row": null,
            "grid_template_areas": null,
            "grid_template_columns": null,
            "grid_template_rows": null,
            "height": null,
            "justify_content": null,
            "justify_items": null,
            "left": null,
            "margin": null,
            "max_height": null,
            "max_width": null,
            "min_height": null,
            "min_width": null,
            "object_fit": null,
            "object_position": null,
            "order": null,
            "overflow": null,
            "overflow_x": null,
            "overflow_y": null,
            "padding": null,
            "right": null,
            "top": null,
            "visibility": null,
            "width": null
          }
        },
        "8bc2d4bca10241568c49283769100777": {
          "model_module": "@jupyter-widgets/controls",
          "model_name": "DescriptionStyleModel",
          "model_module_version": "1.5.0",
          "state": {
            "_model_module": "@jupyter-widgets/controls",
            "_model_module_version": "1.5.0",
            "_model_name": "DescriptionStyleModel",
            "_view_count": null,
            "_view_module": "@jupyter-widgets/base",
            "_view_module_version": "1.2.0",
            "_view_name": "StyleView",
            "description_width": ""
          }
        },
        "2ee0a9babd9942d8b0ee3cfb321b1c52": {
          "model_module": "@jupyter-widgets/controls",
          "model_name": "HBoxModel",
          "model_module_version": "1.5.0",
          "state": {
            "_dom_classes": [],
            "_model_module": "@jupyter-widgets/controls",
            "_model_module_version": "1.5.0",
            "_model_name": "HBoxModel",
            "_view_count": null,
            "_view_module": "@jupyter-widgets/controls",
            "_view_module_version": "1.5.0",
            "_view_name": "HBoxView",
            "box_style": "",
            "children": [
              "IPY_MODEL_06fe098020e74e6682b9cba3dfd03151",
              "IPY_MODEL_7d38418cda5d458796a0fb8497197cec",
              "IPY_MODEL_75ed578c4e854f7c8055940e32ca5124"
            ],
            "layout": "IPY_MODEL_78c6ca0320cc491896e0c2dfb79ef561"
          }
        },
        "06fe098020e74e6682b9cba3dfd03151": {
          "model_module": "@jupyter-widgets/controls",
          "model_name": "HTMLModel",
          "model_module_version": "1.5.0",
          "state": {
            "_dom_classes": [],
            "_model_module": "@jupyter-widgets/controls",
            "_model_module_version": "1.5.0",
            "_model_name": "HTMLModel",
            "_view_count": null,
            "_view_module": "@jupyter-widgets/controls",
            "_view_module_version": "1.5.0",
            "_view_name": "HTMLView",
            "description": "",
            "description_tooltip": null,
            "layout": "IPY_MODEL_32afbc57ea7a47a89a9bbc7abcd008b7",
            "placeholder": "​",
            "style": "IPY_MODEL_9b89ff4c2104408cbdd49d8f5db7e70d",
            "value": "merges.txt: 100%"
          }
        },
        "7d38418cda5d458796a0fb8497197cec": {
          "model_module": "@jupyter-widgets/controls",
          "model_name": "FloatProgressModel",
          "model_module_version": "1.5.0",
          "state": {
            "_dom_classes": [],
            "_model_module": "@jupyter-widgets/controls",
            "_model_module_version": "1.5.0",
            "_model_name": "FloatProgressModel",
            "_view_count": null,
            "_view_module": "@jupyter-widgets/controls",
            "_view_module_version": "1.5.0",
            "_view_name": "ProgressView",
            "bar_style": "success",
            "description": "",
            "description_tooltip": null,
            "layout": "IPY_MODEL_ac49af0749fa4e6ab799308755366e76",
            "max": 456318,
            "min": 0,
            "orientation": "horizontal",
            "style": "IPY_MODEL_efd088320f4148d9b280b35a12f5d275",
            "value": 456318
          }
        },
        "75ed578c4e854f7c8055940e32ca5124": {
          "model_module": "@jupyter-widgets/controls",
          "model_name": "HTMLModel",
          "model_module_version": "1.5.0",
          "state": {
            "_dom_classes": [],
            "_model_module": "@jupyter-widgets/controls",
            "_model_module_version": "1.5.0",
            "_model_name": "HTMLModel",
            "_view_count": null,
            "_view_module": "@jupyter-widgets/controls",
            "_view_module_version": "1.5.0",
            "_view_name": "HTMLView",
            "description": "",
            "description_tooltip": null,
            "layout": "IPY_MODEL_15a50821c99449e4a0f730bca83349e1",
            "placeholder": "​",
            "style": "IPY_MODEL_6da3897cb92c4deca4fad70810171bbc",
            "value": " 456k/456k [00:00&lt;00:00, 1.06MB/s]"
          }
        },
        "78c6ca0320cc491896e0c2dfb79ef561": {
          "model_module": "@jupyter-widgets/base",
          "model_name": "LayoutModel",
          "model_module_version": "1.2.0",
          "state": {
            "_model_module": "@jupyter-widgets/base",
            "_model_module_version": "1.2.0",
            "_model_name": "LayoutModel",
            "_view_count": null,
            "_view_module": "@jupyter-widgets/base",
            "_view_module_version": "1.2.0",
            "_view_name": "LayoutView",
            "align_content": null,
            "align_items": null,
            "align_self": null,
            "border": null,
            "bottom": null,
            "display": null,
            "flex": null,
            "flex_flow": null,
            "grid_area": null,
            "grid_auto_columns": null,
            "grid_auto_flow": null,
            "grid_auto_rows": null,
            "grid_column": null,
            "grid_gap": null,
            "grid_row": null,
            "grid_template_areas": null,
            "grid_template_columns": null,
            "grid_template_rows": null,
            "height": null,
            "justify_content": null,
            "justify_items": null,
            "left": null,
            "margin": null,
            "max_height": null,
            "max_width": null,
            "min_height": null,
            "min_width": null,
            "object_fit": null,
            "object_position": null,
            "order": null,
            "overflow": null,
            "overflow_x": null,
            "overflow_y": null,
            "padding": null,
            "right": null,
            "top": null,
            "visibility": null,
            "width": null
          }
        },
        "32afbc57ea7a47a89a9bbc7abcd008b7": {
          "model_module": "@jupyter-widgets/base",
          "model_name": "LayoutModel",
          "model_module_version": "1.2.0",
          "state": {
            "_model_module": "@jupyter-widgets/base",
            "_model_module_version": "1.2.0",
            "_model_name": "LayoutModel",
            "_view_count": null,
            "_view_module": "@jupyter-widgets/base",
            "_view_module_version": "1.2.0",
            "_view_name": "LayoutView",
            "align_content": null,
            "align_items": null,
            "align_self": null,
            "border": null,
            "bottom": null,
            "display": null,
            "flex": null,
            "flex_flow": null,
            "grid_area": null,
            "grid_auto_columns": null,
            "grid_auto_flow": null,
            "grid_auto_rows": null,
            "grid_column": null,
            "grid_gap": null,
            "grid_row": null,
            "grid_template_areas": null,
            "grid_template_columns": null,
            "grid_template_rows": null,
            "height": null,
            "justify_content": null,
            "justify_items": null,
            "left": null,
            "margin": null,
            "max_height": null,
            "max_width": null,
            "min_height": null,
            "min_width": null,
            "object_fit": null,
            "object_position": null,
            "order": null,
            "overflow": null,
            "overflow_x": null,
            "overflow_y": null,
            "padding": null,
            "right": null,
            "top": null,
            "visibility": null,
            "width": null
          }
        },
        "9b89ff4c2104408cbdd49d8f5db7e70d": {
          "model_module": "@jupyter-widgets/controls",
          "model_name": "DescriptionStyleModel",
          "model_module_version": "1.5.0",
          "state": {
            "_model_module": "@jupyter-widgets/controls",
            "_model_module_version": "1.5.0",
            "_model_name": "DescriptionStyleModel",
            "_view_count": null,
            "_view_module": "@jupyter-widgets/base",
            "_view_module_version": "1.2.0",
            "_view_name": "StyleView",
            "description_width": ""
          }
        },
        "ac49af0749fa4e6ab799308755366e76": {
          "model_module": "@jupyter-widgets/base",
          "model_name": "LayoutModel",
          "model_module_version": "1.2.0",
          "state": {
            "_model_module": "@jupyter-widgets/base",
            "_model_module_version": "1.2.0",
            "_model_name": "LayoutModel",
            "_view_count": null,
            "_view_module": "@jupyter-widgets/base",
            "_view_module_version": "1.2.0",
            "_view_name": "LayoutView",
            "align_content": null,
            "align_items": null,
            "align_self": null,
            "border": null,
            "bottom": null,
            "display": null,
            "flex": null,
            "flex_flow": null,
            "grid_area": null,
            "grid_auto_columns": null,
            "grid_auto_flow": null,
            "grid_auto_rows": null,
            "grid_column": null,
            "grid_gap": null,
            "grid_row": null,
            "grid_template_areas": null,
            "grid_template_columns": null,
            "grid_template_rows": null,
            "height": null,
            "justify_content": null,
            "justify_items": null,
            "left": null,
            "margin": null,
            "max_height": null,
            "max_width": null,
            "min_height": null,
            "min_width": null,
            "object_fit": null,
            "object_position": null,
            "order": null,
            "overflow": null,
            "overflow_x": null,
            "overflow_y": null,
            "padding": null,
            "right": null,
            "top": null,
            "visibility": null,
            "width": null
          }
        },
        "efd088320f4148d9b280b35a12f5d275": {
          "model_module": "@jupyter-widgets/controls",
          "model_name": "ProgressStyleModel",
          "model_module_version": "1.5.0",
          "state": {
            "_model_module": "@jupyter-widgets/controls",
            "_model_module_version": "1.5.0",
            "_model_name": "ProgressStyleModel",
            "_view_count": null,
            "_view_module": "@jupyter-widgets/base",
            "_view_module_version": "1.2.0",
            "_view_name": "StyleView",
            "bar_color": null,
            "description_width": ""
          }
        },
        "15a50821c99449e4a0f730bca83349e1": {
          "model_module": "@jupyter-widgets/base",
          "model_name": "LayoutModel",
          "model_module_version": "1.2.0",
          "state": {
            "_model_module": "@jupyter-widgets/base",
            "_model_module_version": "1.2.0",
            "_model_name": "LayoutModel",
            "_view_count": null,
            "_view_module": "@jupyter-widgets/base",
            "_view_module_version": "1.2.0",
            "_view_name": "LayoutView",
            "align_content": null,
            "align_items": null,
            "align_self": null,
            "border": null,
            "bottom": null,
            "display": null,
            "flex": null,
            "flex_flow": null,
            "grid_area": null,
            "grid_auto_columns": null,
            "grid_auto_flow": null,
            "grid_auto_rows": null,
            "grid_column": null,
            "grid_gap": null,
            "grid_row": null,
            "grid_template_areas": null,
            "grid_template_columns": null,
            "grid_template_rows": null,
            "height": null,
            "justify_content": null,
            "justify_items": null,
            "left": null,
            "margin": null,
            "max_height": null,
            "max_width": null,
            "min_height": null,
            "min_width": null,
            "object_fit": null,
            "object_position": null,
            "order": null,
            "overflow": null,
            "overflow_x": null,
            "overflow_y": null,
            "padding": null,
            "right": null,
            "top": null,
            "visibility": null,
            "width": null
          }
        },
        "6da3897cb92c4deca4fad70810171bbc": {
          "model_module": "@jupyter-widgets/controls",
          "model_name": "DescriptionStyleModel",
          "model_module_version": "1.5.0",
          "state": {
            "_model_module": "@jupyter-widgets/controls",
            "_model_module_version": "1.5.0",
            "_model_name": "DescriptionStyleModel",
            "_view_count": null,
            "_view_module": "@jupyter-widgets/base",
            "_view_module_version": "1.2.0",
            "_view_name": "StyleView",
            "description_width": ""
          }
        },
        "0ae7a6eab1794859a3f707730a68cb75": {
          "model_module": "@jupyter-widgets/controls",
          "model_name": "HBoxModel",
          "model_module_version": "1.5.0",
          "state": {
            "_dom_classes": [],
            "_model_module": "@jupyter-widgets/controls",
            "_model_module_version": "1.5.0",
            "_model_name": "HBoxModel",
            "_view_count": null,
            "_view_module": "@jupyter-widgets/controls",
            "_view_module_version": "1.5.0",
            "_view_name": "HBoxView",
            "box_style": "",
            "children": [
              "IPY_MODEL_1f2f2aff128b46539480756ab997c058",
              "IPY_MODEL_e7c467111d854efb913f4100560947c5",
              "IPY_MODEL_260090786fec42cda7a471cf67da6c6b"
            ],
            "layout": "IPY_MODEL_af070136fa1245f08e6dd749214f5e65"
          }
        },
        "1f2f2aff128b46539480756ab997c058": {
          "model_module": "@jupyter-widgets/controls",
          "model_name": "HTMLModel",
          "model_module_version": "1.5.0",
          "state": {
            "_dom_classes": [],
            "_model_module": "@jupyter-widgets/controls",
            "_model_module_version": "1.5.0",
            "_model_name": "HTMLModel",
            "_view_count": null,
            "_view_module": "@jupyter-widgets/controls",
            "_view_module_version": "1.5.0",
            "_view_name": "HTMLView",
            "description": "",
            "description_tooltip": null,
            "layout": "IPY_MODEL_c8e78f8ce25a4df590a12ee224e0929d",
            "placeholder": "​",
            "style": "IPY_MODEL_a1bceeb72db142e8a716925092102fed",
            "value": "tokenizer.json: 100%"
          }
        },
        "e7c467111d854efb913f4100560947c5": {
          "model_module": "@jupyter-widgets/controls",
          "model_name": "FloatProgressModel",
          "model_module_version": "1.5.0",
          "state": {
            "_dom_classes": [],
            "_model_module": "@jupyter-widgets/controls",
            "_model_module_version": "1.5.0",
            "_model_name": "FloatProgressModel",
            "_view_count": null,
            "_view_module": "@jupyter-widgets/controls",
            "_view_module_version": "1.5.0",
            "_view_name": "ProgressView",
            "bar_style": "success",
            "description": "",
            "description_tooltip": null,
            "layout": "IPY_MODEL_9a75e7801b19498db3c9c135efea8c72",
            "max": 1355256,
            "min": 0,
            "orientation": "horizontal",
            "style": "IPY_MODEL_85fa0d89347c4e18997a1adb354e6b30",
            "value": 1355256
          }
        },
        "260090786fec42cda7a471cf67da6c6b": {
          "model_module": "@jupyter-widgets/controls",
          "model_name": "HTMLModel",
          "model_module_version": "1.5.0",
          "state": {
            "_dom_classes": [],
            "_model_module": "@jupyter-widgets/controls",
            "_model_module_version": "1.5.0",
            "_model_name": "HTMLModel",
            "_view_count": null,
            "_view_module": "@jupyter-widgets/controls",
            "_view_module_version": "1.5.0",
            "_view_name": "HTMLView",
            "description": "",
            "description_tooltip": null,
            "layout": "IPY_MODEL_b1ff0342a54f4602b710c8b2b8961ea0",
            "placeholder": "​",
            "style": "IPY_MODEL_ca440903d9814f0e9a12ca3c322ef262",
            "value": " 1.36M/1.36M [00:01&lt;00:00, 1.26MB/s]"
          }
        },
        "af070136fa1245f08e6dd749214f5e65": {
          "model_module": "@jupyter-widgets/base",
          "model_name": "LayoutModel",
          "model_module_version": "1.2.0",
          "state": {
            "_model_module": "@jupyter-widgets/base",
            "_model_module_version": "1.2.0",
            "_model_name": "LayoutModel",
            "_view_count": null,
            "_view_module": "@jupyter-widgets/base",
            "_view_module_version": "1.2.0",
            "_view_name": "LayoutView",
            "align_content": null,
            "align_items": null,
            "align_self": null,
            "border": null,
            "bottom": null,
            "display": null,
            "flex": null,
            "flex_flow": null,
            "grid_area": null,
            "grid_auto_columns": null,
            "grid_auto_flow": null,
            "grid_auto_rows": null,
            "grid_column": null,
            "grid_gap": null,
            "grid_row": null,
            "grid_template_areas": null,
            "grid_template_columns": null,
            "grid_template_rows": null,
            "height": null,
            "justify_content": null,
            "justify_items": null,
            "left": null,
            "margin": null,
            "max_height": null,
            "max_width": null,
            "min_height": null,
            "min_width": null,
            "object_fit": null,
            "object_position": null,
            "order": null,
            "overflow": null,
            "overflow_x": null,
            "overflow_y": null,
            "padding": null,
            "right": null,
            "top": null,
            "visibility": null,
            "width": null
          }
        },
        "c8e78f8ce25a4df590a12ee224e0929d": {
          "model_module": "@jupyter-widgets/base",
          "model_name": "LayoutModel",
          "model_module_version": "1.2.0",
          "state": {
            "_model_module": "@jupyter-widgets/base",
            "_model_module_version": "1.2.0",
            "_model_name": "LayoutModel",
            "_view_count": null,
            "_view_module": "@jupyter-widgets/base",
            "_view_module_version": "1.2.0",
            "_view_name": "LayoutView",
            "align_content": null,
            "align_items": null,
            "align_self": null,
            "border": null,
            "bottom": null,
            "display": null,
            "flex": null,
            "flex_flow": null,
            "grid_area": null,
            "grid_auto_columns": null,
            "grid_auto_flow": null,
            "grid_auto_rows": null,
            "grid_column": null,
            "grid_gap": null,
            "grid_row": null,
            "grid_template_areas": null,
            "grid_template_columns": null,
            "grid_template_rows": null,
            "height": null,
            "justify_content": null,
            "justify_items": null,
            "left": null,
            "margin": null,
            "max_height": null,
            "max_width": null,
            "min_height": null,
            "min_width": null,
            "object_fit": null,
            "object_position": null,
            "order": null,
            "overflow": null,
            "overflow_x": null,
            "overflow_y": null,
            "padding": null,
            "right": null,
            "top": null,
            "visibility": null,
            "width": null
          }
        },
        "a1bceeb72db142e8a716925092102fed": {
          "model_module": "@jupyter-widgets/controls",
          "model_name": "DescriptionStyleModel",
          "model_module_version": "1.5.0",
          "state": {
            "_model_module": "@jupyter-widgets/controls",
            "_model_module_version": "1.5.0",
            "_model_name": "DescriptionStyleModel",
            "_view_count": null,
            "_view_module": "@jupyter-widgets/base",
            "_view_module_version": "1.2.0",
            "_view_name": "StyleView",
            "description_width": ""
          }
        },
        "9a75e7801b19498db3c9c135efea8c72": {
          "model_module": "@jupyter-widgets/base",
          "model_name": "LayoutModel",
          "model_module_version": "1.2.0",
          "state": {
            "_model_module": "@jupyter-widgets/base",
            "_model_module_version": "1.2.0",
            "_model_name": "LayoutModel",
            "_view_count": null,
            "_view_module": "@jupyter-widgets/base",
            "_view_module_version": "1.2.0",
            "_view_name": "LayoutView",
            "align_content": null,
            "align_items": null,
            "align_self": null,
            "border": null,
            "bottom": null,
            "display": null,
            "flex": null,
            "flex_flow": null,
            "grid_area": null,
            "grid_auto_columns": null,
            "grid_auto_flow": null,
            "grid_auto_rows": null,
            "grid_column": null,
            "grid_gap": null,
            "grid_row": null,
            "grid_template_areas": null,
            "grid_template_columns": null,
            "grid_template_rows": null,
            "height": null,
            "justify_content": null,
            "justify_items": null,
            "left": null,
            "margin": null,
            "max_height": null,
            "max_width": null,
            "min_height": null,
            "min_width": null,
            "object_fit": null,
            "object_position": null,
            "order": null,
            "overflow": null,
            "overflow_x": null,
            "overflow_y": null,
            "padding": null,
            "right": null,
            "top": null,
            "visibility": null,
            "width": null
          }
        },
        "85fa0d89347c4e18997a1adb354e6b30": {
          "model_module": "@jupyter-widgets/controls",
          "model_name": "ProgressStyleModel",
          "model_module_version": "1.5.0",
          "state": {
            "_model_module": "@jupyter-widgets/controls",
            "_model_module_version": "1.5.0",
            "_model_name": "ProgressStyleModel",
            "_view_count": null,
            "_view_module": "@jupyter-widgets/base",
            "_view_module_version": "1.2.0",
            "_view_name": "StyleView",
            "bar_color": null,
            "description_width": ""
          }
        },
        "b1ff0342a54f4602b710c8b2b8961ea0": {
          "model_module": "@jupyter-widgets/base",
          "model_name": "LayoutModel",
          "model_module_version": "1.2.0",
          "state": {
            "_model_module": "@jupyter-widgets/base",
            "_model_module_version": "1.2.0",
            "_model_name": "LayoutModel",
            "_view_count": null,
            "_view_module": "@jupyter-widgets/base",
            "_view_module_version": "1.2.0",
            "_view_name": "LayoutView",
            "align_content": null,
            "align_items": null,
            "align_self": null,
            "border": null,
            "bottom": null,
            "display": null,
            "flex": null,
            "flex_flow": null,
            "grid_area": null,
            "grid_auto_columns": null,
            "grid_auto_flow": null,
            "grid_auto_rows": null,
            "grid_column": null,
            "grid_gap": null,
            "grid_row": null,
            "grid_template_areas": null,
            "grid_template_columns": null,
            "grid_template_rows": null,
            "height": null,
            "justify_content": null,
            "justify_items": null,
            "left": null,
            "margin": null,
            "max_height": null,
            "max_width": null,
            "min_height": null,
            "min_width": null,
            "object_fit": null,
            "object_position": null,
            "order": null,
            "overflow": null,
            "overflow_x": null,
            "overflow_y": null,
            "padding": null,
            "right": null,
            "top": null,
            "visibility": null,
            "width": null
          }
        },
        "ca440903d9814f0e9a12ca3c322ef262": {
          "model_module": "@jupyter-widgets/controls",
          "model_name": "DescriptionStyleModel",
          "model_module_version": "1.5.0",
          "state": {
            "_model_module": "@jupyter-widgets/controls",
            "_model_module_version": "1.5.0",
            "_model_name": "DescriptionStyleModel",
            "_view_count": null,
            "_view_module": "@jupyter-widgets/base",
            "_view_module_version": "1.2.0",
            "_view_name": "StyleView",
            "description_width": ""
          }
        },
        "a9689dcdfcfe46eeb384d4552f25bd11": {
          "model_module": "@jupyter-widgets/controls",
          "model_name": "HBoxModel",
          "model_module_version": "1.5.0",
          "state": {
            "_dom_classes": [],
            "_model_module": "@jupyter-widgets/controls",
            "_model_module_version": "1.5.0",
            "_model_name": "HBoxModel",
            "_view_count": null,
            "_view_module": "@jupyter-widgets/controls",
            "_view_module_version": "1.5.0",
            "_view_name": "HBoxView",
            "box_style": "",
            "children": [
              "IPY_MODEL_742d38cd87d946f497f1dec02790f873",
              "IPY_MODEL_4f83ce45f61442aaafdd23d2faa1fd32",
              "IPY_MODEL_d1ed01d17e814c879d62a8a74e228dca"
            ],
            "layout": "IPY_MODEL_2c2a27619af445aaab24859acee5c30a"
          }
        },
        "742d38cd87d946f497f1dec02790f873": {
          "model_module": "@jupyter-widgets/controls",
          "model_name": "HTMLModel",
          "model_module_version": "1.5.0",
          "state": {
            "_dom_classes": [],
            "_model_module": "@jupyter-widgets/controls",
            "_model_module_version": "1.5.0",
            "_model_name": "HTMLModel",
            "_view_count": null,
            "_view_module": "@jupyter-widgets/controls",
            "_view_module_version": "1.5.0",
            "_view_name": "HTMLView",
            "description": "",
            "description_tooltip": null,
            "layout": "IPY_MODEL_629e55e9fcf74f52b6e55300c94060cc",
            "placeholder": "​",
            "style": "IPY_MODEL_8edc8091496042d188dc1d53a36b192e",
            "value": "config.json: 100%"
          }
        },
        "4f83ce45f61442aaafdd23d2faa1fd32": {
          "model_module": "@jupyter-widgets/controls",
          "model_name": "FloatProgressModel",
          "model_module_version": "1.5.0",
          "state": {
            "_dom_classes": [],
            "_model_module": "@jupyter-widgets/controls",
            "_model_module_version": "1.5.0",
            "_model_name": "FloatProgressModel",
            "_view_count": null,
            "_view_module": "@jupyter-widgets/controls",
            "_view_module_version": "1.5.0",
            "_view_name": "ProgressView",
            "bar_style": "success",
            "description": "",
            "description_tooltip": null,
            "layout": "IPY_MODEL_6ec61fc5b9d14a5e85ec803258fdfbf9",
            "max": 718,
            "min": 0,
            "orientation": "horizontal",
            "style": "IPY_MODEL_f742eef2e6704ce282fce1b9fe53e839",
            "value": 718
          }
        },
        "d1ed01d17e814c879d62a8a74e228dca": {
          "model_module": "@jupyter-widgets/controls",
          "model_name": "HTMLModel",
          "model_module_version": "1.5.0",
          "state": {
            "_dom_classes": [],
            "_model_module": "@jupyter-widgets/controls",
            "_model_module_version": "1.5.0",
            "_model_name": "HTMLModel",
            "_view_count": null,
            "_view_module": "@jupyter-widgets/controls",
            "_view_module_version": "1.5.0",
            "_view_name": "HTMLView",
            "description": "",
            "description_tooltip": null,
            "layout": "IPY_MODEL_3e8ea6add99346e7a5d9ab1ae3cea11d",
            "placeholder": "​",
            "style": "IPY_MODEL_144f3131d6174f179a2599628f3c9d1d",
            "value": " 718/718 [00:00&lt;00:00, 46.2kB/s]"
          }
        },
        "2c2a27619af445aaab24859acee5c30a": {
          "model_module": "@jupyter-widgets/base",
          "model_name": "LayoutModel",
          "model_module_version": "1.2.0",
          "state": {
            "_model_module": "@jupyter-widgets/base",
            "_model_module_version": "1.2.0",
            "_model_name": "LayoutModel",
            "_view_count": null,
            "_view_module": "@jupyter-widgets/base",
            "_view_module_version": "1.2.0",
            "_view_name": "LayoutView",
            "align_content": null,
            "align_items": null,
            "align_self": null,
            "border": null,
            "bottom": null,
            "display": null,
            "flex": null,
            "flex_flow": null,
            "grid_area": null,
            "grid_auto_columns": null,
            "grid_auto_flow": null,
            "grid_auto_rows": null,
            "grid_column": null,
            "grid_gap": null,
            "grid_row": null,
            "grid_template_areas": null,
            "grid_template_columns": null,
            "grid_template_rows": null,
            "height": null,
            "justify_content": null,
            "justify_items": null,
            "left": null,
            "margin": null,
            "max_height": null,
            "max_width": null,
            "min_height": null,
            "min_width": null,
            "object_fit": null,
            "object_position": null,
            "order": null,
            "overflow": null,
            "overflow_x": null,
            "overflow_y": null,
            "padding": null,
            "right": null,
            "top": null,
            "visibility": null,
            "width": null
          }
        },
        "629e55e9fcf74f52b6e55300c94060cc": {
          "model_module": "@jupyter-widgets/base",
          "model_name": "LayoutModel",
          "model_module_version": "1.2.0",
          "state": {
            "_model_module": "@jupyter-widgets/base",
            "_model_module_version": "1.2.0",
            "_model_name": "LayoutModel",
            "_view_count": null,
            "_view_module": "@jupyter-widgets/base",
            "_view_module_version": "1.2.0",
            "_view_name": "LayoutView",
            "align_content": null,
            "align_items": null,
            "align_self": null,
            "border": null,
            "bottom": null,
            "display": null,
            "flex": null,
            "flex_flow": null,
            "grid_area": null,
            "grid_auto_columns": null,
            "grid_auto_flow": null,
            "grid_auto_rows": null,
            "grid_column": null,
            "grid_gap": null,
            "grid_row": null,
            "grid_template_areas": null,
            "grid_template_columns": null,
            "grid_template_rows": null,
            "height": null,
            "justify_content": null,
            "justify_items": null,
            "left": null,
            "margin": null,
            "max_height": null,
            "max_width": null,
            "min_height": null,
            "min_width": null,
            "object_fit": null,
            "object_position": null,
            "order": null,
            "overflow": null,
            "overflow_x": null,
            "overflow_y": null,
            "padding": null,
            "right": null,
            "top": null,
            "visibility": null,
            "width": null
          }
        },
        "8edc8091496042d188dc1d53a36b192e": {
          "model_module": "@jupyter-widgets/controls",
          "model_name": "DescriptionStyleModel",
          "model_module_version": "1.5.0",
          "state": {
            "_model_module": "@jupyter-widgets/controls",
            "_model_module_version": "1.5.0",
            "_model_name": "DescriptionStyleModel",
            "_view_count": null,
            "_view_module": "@jupyter-widgets/base",
            "_view_module_version": "1.2.0",
            "_view_name": "StyleView",
            "description_width": ""
          }
        },
        "6ec61fc5b9d14a5e85ec803258fdfbf9": {
          "model_module": "@jupyter-widgets/base",
          "model_name": "LayoutModel",
          "model_module_version": "1.2.0",
          "state": {
            "_model_module": "@jupyter-widgets/base",
            "_model_module_version": "1.2.0",
            "_model_name": "LayoutModel",
            "_view_count": null,
            "_view_module": "@jupyter-widgets/base",
            "_view_module_version": "1.2.0",
            "_view_name": "LayoutView",
            "align_content": null,
            "align_items": null,
            "align_self": null,
            "border": null,
            "bottom": null,
            "display": null,
            "flex": null,
            "flex_flow": null,
            "grid_area": null,
            "grid_auto_columns": null,
            "grid_auto_flow": null,
            "grid_auto_rows": null,
            "grid_column": null,
            "grid_gap": null,
            "grid_row": null,
            "grid_template_areas": null,
            "grid_template_columns": null,
            "grid_template_rows": null,
            "height": null,
            "justify_content": null,
            "justify_items": null,
            "left": null,
            "margin": null,
            "max_height": null,
            "max_width": null,
            "min_height": null,
            "min_width": null,
            "object_fit": null,
            "object_position": null,
            "order": null,
            "overflow": null,
            "overflow_x": null,
            "overflow_y": null,
            "padding": null,
            "right": null,
            "top": null,
            "visibility": null,
            "width": null
          }
        },
        "f742eef2e6704ce282fce1b9fe53e839": {
          "model_module": "@jupyter-widgets/controls",
          "model_name": "ProgressStyleModel",
          "model_module_version": "1.5.0",
          "state": {
            "_model_module": "@jupyter-widgets/controls",
            "_model_module_version": "1.5.0",
            "_model_name": "ProgressStyleModel",
            "_view_count": null,
            "_view_module": "@jupyter-widgets/base",
            "_view_module_version": "1.2.0",
            "_view_name": "StyleView",
            "bar_color": null,
            "description_width": ""
          }
        },
        "3e8ea6add99346e7a5d9ab1ae3cea11d": {
          "model_module": "@jupyter-widgets/base",
          "model_name": "LayoutModel",
          "model_module_version": "1.2.0",
          "state": {
            "_model_module": "@jupyter-widgets/base",
            "_model_module_version": "1.2.0",
            "_model_name": "LayoutModel",
            "_view_count": null,
            "_view_module": "@jupyter-widgets/base",
            "_view_module_version": "1.2.0",
            "_view_name": "LayoutView",
            "align_content": null,
            "align_items": null,
            "align_self": null,
            "border": null,
            "bottom": null,
            "display": null,
            "flex": null,
            "flex_flow": null,
            "grid_area": null,
            "grid_auto_columns": null,
            "grid_auto_flow": null,
            "grid_auto_rows": null,
            "grid_column": null,
            "grid_gap": null,
            "grid_row": null,
            "grid_template_areas": null,
            "grid_template_columns": null,
            "grid_template_rows": null,
            "height": null,
            "justify_content": null,
            "justify_items": null,
            "left": null,
            "margin": null,
            "max_height": null,
            "max_width": null,
            "min_height": null,
            "min_width": null,
            "object_fit": null,
            "object_position": null,
            "order": null,
            "overflow": null,
            "overflow_x": null,
            "overflow_y": null,
            "padding": null,
            "right": null,
            "top": null,
            "visibility": null,
            "width": null
          }
        },
        "144f3131d6174f179a2599628f3c9d1d": {
          "model_module": "@jupyter-widgets/controls",
          "model_name": "DescriptionStyleModel",
          "model_module_version": "1.5.0",
          "state": {
            "_model_module": "@jupyter-widgets/controls",
            "_model_module_version": "1.5.0",
            "_model_name": "DescriptionStyleModel",
            "_view_count": null,
            "_view_module": "@jupyter-widgets/base",
            "_view_module_version": "1.2.0",
            "_view_name": "StyleView",
            "description_width": ""
          }
        }
      }
    }
  },
  "cells": [
    {
      "cell_type": "markdown",
      "metadata": {
        "id": "view-in-github",
        "colab_type": "text"
      },
      "source": [
        "<a href=\"https://colab.research.google.com/github/Akeshh/ICS661-Assignment3-part2/blob/main/ICS661_A3_Part2.ipynb\" target=\"_parent\"><img src=\"https://colab.research.google.com/assets/colab-badge.svg\" alt=\"Open In Colab\"/></a>"
      ]
    },
    {
      "cell_type": "code",
      "source": [
        "!pip install rouge"
      ],
      "metadata": {
        "colab": {
          "base_uri": "https://localhost:8080/"
        },
        "id": "mfKGeMkhqMGl",
        "outputId": "3db5d116-a3cc-4724-f528-225ac31c262c"
      },
      "execution_count": 1,
      "outputs": [
        {
          "output_type": "stream",
          "name": "stdout",
          "text": [
            "Collecting rouge\n",
            "  Downloading rouge-1.0.1-py3-none-any.whl.metadata (4.1 kB)\n",
            "Requirement already satisfied: six in /usr/local/lib/python3.10/dist-packages (from rouge) (1.16.0)\n",
            "Downloading rouge-1.0.1-py3-none-any.whl (13 kB)\n",
            "Installing collected packages: rouge\n",
            "Successfully installed rouge-1.0.1\n"
          ]
        }
      ]
    },
    {
      "cell_type": "code",
      "execution_count": 2,
      "metadata": {
        "id": "H5ZtkaZpjWbs"
      },
      "outputs": [],
      "source": [
        "import json\n",
        "import random\n",
        "import torch\n",
        "from transformers import GPT2LMHeadModel, GPT2Tokenizer\n",
        "from torch.utils.data import TensorDataset, DataLoader\n",
        "import matplotlib.pyplot as plt\n",
        "from rouge import Rouge\n",
        "from tqdm import tqdm"
      ]
    },
    {
      "cell_type": "code",
      "source": [
        "# Set a fixed random seed for reproducibility\n",
        "random.seed(42)\n",
        "\n",
        "# Load the data from the JSON file\n",
        "with open('/content/drive/MyDrive/CS661-Assignment2/jokes.json', 'r') as data_file:\n",
        "    data = json.load(data_file)\n",
        "\n",
        "# Shuffle the data to ensure random distribution\n",
        "random.shuffle(data)\n",
        "\n",
        "# Calculate the split index\n",
        "split_index = int(0.9 * len(data))\n",
        "\n",
        "# Split the data into train and test sets\n",
        "train_data = data[:split_index]\n",
        "test_data = data[split_index:]\n",
        "\n",
        "# Print examples to verify\n",
        "print(\"Train data example:\", train_data[:1])\n",
        "print(\"Test data example:\", test_data[:1])\n",
        "\n",
        "# Save the train and test sets as separate JSON files\n",
        "with open('/content/drive/MyDrive/CS661-Assignment2/train_jokes.json', 'w') as train_file:\n",
        "    json.dump(train_data, train_file, ensure_ascii=False, indent=4)\n",
        "\n",
        "with open('/content/drive/MyDrive/CS661-Assignment2/test_jokes.json', 'w') as test_file:\n",
        "    json.dump(test_data, test_file, ensure_ascii=False, indent=4)\n",
        "\n",
        "print(f\"Train set size: {len(train_data)}\")\n",
        "print(f\"Test set size: {len(test_data)}\")"
      ],
      "metadata": {
        "colab": {
          "base_uri": "https://localhost:8080/"
        },
        "id": "udnxfrEpjgri",
        "outputId": "e75ea474-d217-463e-a153-436ea00a42a7"
      },
      "execution_count": 3,
      "outputs": [
        {
          "output_type": "stream",
          "name": "stdout",
          "text": [
            "Train data example: [{'ID': '1520', 'Joke': \"I just read this article about short term memory I don't remember what it was about\"}]\n",
            "Test data example: [{'ID': '1100', 'Joke': 'What do you call a woman with one leg? Eileen'}]\n",
            "Train set size: 1459\n",
            "Test set size: 163\n"
          ]
        }
      ]
    },
    {
      "cell_type": "code",
      "source": [
        "# Function to preprocess and tokenize data\n",
        "def preprocess_data(data):\n",
        "    inputs = []\n",
        "    labels = []\n",
        "\n",
        "    # Load GPT-2 tokenizer\n",
        "    tokenizer = GPT2Tokenizer.from_pretrained('openai-community/gpt2-medium')\n",
        "\n",
        "    # Add a padding token for GPT-2\n",
        "    tokenizer.pad_token = tokenizer.eos_token  # Use eos_token as pad_token\n",
        "\n",
        "    # Process each joke in the dataset\n",
        "    for item in data:\n",
        "        joke = item['Joke']\n",
        "\n",
        "        # Split the joke into words\n",
        "        words = joke.split()\n",
        "\n",
        "        # Skip jokes that have fewer than 3 words\n",
        "        if len(words) < 3:\n",
        "            continue\n",
        "\n",
        "        # Get the first three words as input\n",
        "        first_three_words = \" \".join(words[:3])\n",
        "\n",
        "        # Store the first three words as input and the entire joke as the label\n",
        "        inputs.append(first_three_words)\n",
        "        labels.append(joke)\n",
        "\n",
        "    # Encode inputs and labels using GPT-2 tokenizer with padding and truncation\n",
        "    input_ids = [tokenizer.encode(text, add_special_tokens=True, max_length=100, padding=\"max_length\", truncation=True) for text in inputs]\n",
        "    label_ids = [tokenizer.encode(text, add_special_tokens=True, max_length=100, padding=\"max_length\", truncation=True) for text in labels]\n",
        "\n",
        "    # Convert to tensors\n",
        "    input_ids = torch.tensor(input_ids)\n",
        "    label_ids = torch.tensor(label_ids)\n",
        "\n",
        "    return input_ids, label_ids\n",
        "\n",
        "# Function to create a DataLoader\n",
        "def create_dataloader(input_ids, label_ids, batch_size=32):\n",
        "    # Create a TensorDataset from inputs and labels\n",
        "    dataset = TensorDataset(input_ids, label_ids)\n",
        "\n",
        "    # Create a DataLoader for batch processing\n",
        "    dataloader = DataLoader(dataset, batch_size=batch_size, shuffle=True)\n",
        "    return dataloader\n",
        "\n",
        "# Assuming you have already loaded train_data and test_data from your json files\n",
        "# Preprocess and tokenize train and test data\n",
        "train_input_ids, train_label_ids = preprocess_data(train_data)\n",
        "test_input_ids, test_label_ids = preprocess_data(test_data)\n",
        "\n",
        "# Create DataLoaders for train and test sets\n",
        "train_dataloader = create_dataloader(train_input_ids, train_label_ids, batch_size=32)\n",
        "test_dataloader = create_dataloader(test_input_ids, test_label_ids, batch_size=32)\n",
        "\n",
        "# Print the sizes of the datasets\n",
        "print(f'Train set size: {len(train_dataloader.dataset)}')\n",
        "print(f'Test set size: {len(test_dataloader.dataset)}')"
      ],
      "metadata": {
        "colab": {
          "base_uri": "https://localhost:8080/",
          "height": 381,
          "referenced_widgets": [
            "d7e992ced7224c6286d3044c6f37f8a7",
            "e69523dab69642e089abb77c1337d00a",
            "36626844ccb84b58bca1e694ee8a3ab5",
            "7e7675a8bc124223a9aae87af50aa528",
            "c01dc16328c24ba5a0255660221370f5",
            "e58560947aee4678b2bf66609a14f7da",
            "14e2f8a9c2fd4c10b9c32110e4e3978a",
            "1bcd5a4910a049fcb12c3ffbbd29aa43",
            "14728f82644c43ca9dc6f14b44eddcb5",
            "3480beffde514ea1b637eb61f8fda6ab",
            "7627d382ced7439f89c17224e841ef4f",
            "65fed6ab030a4ea681cbbc9467a1bd46",
            "586207b0534148079aa5280475dbe294",
            "1fee7ccbd89643568e99c66fdc75ee8c",
            "edbff6c70b314b1989ce9391bbb2629d",
            "c9436293ba0748a4beec09045505fdc5",
            "8e621b882b404a73b5eb9f750dd2e512",
            "eedadb0dd09847799803c8d077b73cae",
            "a2c0568cd00146818e5ad32771f15f6c",
            "900a673afdb0468888fd7018491de816",
            "6055aa511e18439d87d6919a4ab3b34e",
            "8bc2d4bca10241568c49283769100777",
            "2ee0a9babd9942d8b0ee3cfb321b1c52",
            "06fe098020e74e6682b9cba3dfd03151",
            "7d38418cda5d458796a0fb8497197cec",
            "75ed578c4e854f7c8055940e32ca5124",
            "78c6ca0320cc491896e0c2dfb79ef561",
            "32afbc57ea7a47a89a9bbc7abcd008b7",
            "9b89ff4c2104408cbdd49d8f5db7e70d",
            "ac49af0749fa4e6ab799308755366e76",
            "efd088320f4148d9b280b35a12f5d275",
            "15a50821c99449e4a0f730bca83349e1",
            "6da3897cb92c4deca4fad70810171bbc",
            "0ae7a6eab1794859a3f707730a68cb75",
            "1f2f2aff128b46539480756ab997c058",
            "e7c467111d854efb913f4100560947c5",
            "260090786fec42cda7a471cf67da6c6b",
            "af070136fa1245f08e6dd749214f5e65",
            "c8e78f8ce25a4df590a12ee224e0929d",
            "a1bceeb72db142e8a716925092102fed",
            "9a75e7801b19498db3c9c135efea8c72",
            "85fa0d89347c4e18997a1adb354e6b30",
            "b1ff0342a54f4602b710c8b2b8961ea0",
            "ca440903d9814f0e9a12ca3c322ef262",
            "a9689dcdfcfe46eeb384d4552f25bd11",
            "742d38cd87d946f497f1dec02790f873",
            "4f83ce45f61442aaafdd23d2faa1fd32",
            "d1ed01d17e814c879d62a8a74e228dca",
            "2c2a27619af445aaab24859acee5c30a",
            "629e55e9fcf74f52b6e55300c94060cc",
            "8edc8091496042d188dc1d53a36b192e",
            "6ec61fc5b9d14a5e85ec803258fdfbf9",
            "f742eef2e6704ce282fce1b9fe53e839",
            "3e8ea6add99346e7a5d9ab1ae3cea11d",
            "144f3131d6174f179a2599628f3c9d1d"
          ]
        },
        "id": "TUKN9kmclsF0",
        "outputId": "bfcbdef9-6000-4c5c-beed-197bcf77e2eb"
      },
      "execution_count": 4,
      "outputs": [
        {
          "output_type": "stream",
          "name": "stderr",
          "text": [
            "/usr/local/lib/python3.10/dist-packages/huggingface_hub/utils/_token.py:89: UserWarning: \n",
            "The secret `HF_TOKEN` does not exist in your Colab secrets.\n",
            "To authenticate with the Hugging Face Hub, create a token in your settings tab (https://huggingface.co/settings/tokens), set it as secret in your Google Colab and restart your session.\n",
            "You will be able to reuse this secret in all of your notebooks.\n",
            "Please note that authentication is recommended but still optional to access public models or datasets.\n",
            "  warnings.warn(\n"
          ]
        },
        {
          "output_type": "display_data",
          "data": {
            "text/plain": [
              "tokenizer_config.json:   0%|          | 0.00/26.0 [00:00<?, ?B/s]"
            ],
            "application/vnd.jupyter.widget-view+json": {
              "version_major": 2,
              "version_minor": 0,
              "model_id": "d7e992ced7224c6286d3044c6f37f8a7"
            }
          },
          "metadata": {}
        },
        {
          "output_type": "display_data",
          "data": {
            "text/plain": [
              "vocab.json:   0%|          | 0.00/1.04M [00:00<?, ?B/s]"
            ],
            "application/vnd.jupyter.widget-view+json": {
              "version_major": 2,
              "version_minor": 0,
              "model_id": "65fed6ab030a4ea681cbbc9467a1bd46"
            }
          },
          "metadata": {}
        },
        {
          "output_type": "display_data",
          "data": {
            "text/plain": [
              "merges.txt:   0%|          | 0.00/456k [00:00<?, ?B/s]"
            ],
            "application/vnd.jupyter.widget-view+json": {
              "version_major": 2,
              "version_minor": 0,
              "model_id": "2ee0a9babd9942d8b0ee3cfb321b1c52"
            }
          },
          "metadata": {}
        },
        {
          "output_type": "display_data",
          "data": {
            "text/plain": [
              "tokenizer.json:   0%|          | 0.00/1.36M [00:00<?, ?B/s]"
            ],
            "application/vnd.jupyter.widget-view+json": {
              "version_major": 2,
              "version_minor": 0,
              "model_id": "0ae7a6eab1794859a3f707730a68cb75"
            }
          },
          "metadata": {}
        },
        {
          "output_type": "display_data",
          "data": {
            "text/plain": [
              "config.json:   0%|          | 0.00/718 [00:00<?, ?B/s]"
            ],
            "application/vnd.jupyter.widget-view+json": {
              "version_major": 2,
              "version_minor": 0,
              "model_id": "a9689dcdfcfe46eeb384d4552f25bd11"
            }
          },
          "metadata": {}
        },
        {
          "output_type": "stream",
          "name": "stderr",
          "text": [
            "/usr/local/lib/python3.10/dist-packages/transformers/tokenization_utils_base.py:1601: FutureWarning: `clean_up_tokenization_spaces` was not set. It will be set to `True` by default. This behavior will be depracted in transformers v4.45, and will be then set to `False` by default. For more details check this issue: https://github.com/huggingface/transformers/issues/31884\n",
            "  warnings.warn(\n"
          ]
        },
        {
          "output_type": "stream",
          "name": "stdout",
          "text": [
            "Train set size: 1457\n",
            "Test set size: 163\n"
          ]
        }
      ]
    },
    {
      "cell_type": "code",
      "source": [
        "# Load pre-trained GPT-2 tokenizer from Hugging Face\n",
        "tokenizer = GPT2Tokenizer.from_pretrained('openai-community/gpt2-medium')\n",
        "\n",
        "# Add padding token to GPT-2 tokenizer\n",
        "tokenizer.pad_token = tokenizer.eos_token  # Set pad_token to eos_token\n",
        "\n",
        "# Load pre-trained GPT-2 model with language modeling head\n",
        "model = GPT2LMHeadModel.from_pretrained('openai-community/gpt2-medium')\n",
        "\n",
        "# Set the model to train on GPU if available\n",
        "device = torch.device('cuda' if torch.cuda.is_available() else 'cpu')\n",
        "model = model.to(device)\n",
        "\n",
        "# Print model structure\n",
        "print(model)"
      ],
      "metadata": {
        "colab": {
          "base_uri": "https://localhost:8080/"
        },
        "id": "xaRMuYLAovKF",
        "outputId": "51f7dc87-3f3f-4c89-a04c-5b33f29b1044"
      },
      "execution_count": 10,
      "outputs": [
        {
          "output_type": "stream",
          "name": "stdout",
          "text": [
            "GPT2LMHeadModel(\n",
            "  (transformer): GPT2Model(\n",
            "    (wte): Embedding(50257, 1024)\n",
            "    (wpe): Embedding(1024, 1024)\n",
            "    (drop): Dropout(p=0.1, inplace=False)\n",
            "    (h): ModuleList(\n",
            "      (0-23): 24 x GPT2Block(\n",
            "        (ln_1): LayerNorm((1024,), eps=1e-05, elementwise_affine=True)\n",
            "        (attn): GPT2SdpaAttention(\n",
            "          (c_attn): Conv1D()\n",
            "          (c_proj): Conv1D()\n",
            "          (attn_dropout): Dropout(p=0.1, inplace=False)\n",
            "          (resid_dropout): Dropout(p=0.1, inplace=False)\n",
            "        )\n",
            "        (ln_2): LayerNorm((1024,), eps=1e-05, elementwise_affine=True)\n",
            "        (mlp): GPT2MLP(\n",
            "          (c_fc): Conv1D()\n",
            "          (c_proj): Conv1D()\n",
            "          (act): NewGELUActivation()\n",
            "          (dropout): Dropout(p=0.1, inplace=False)\n",
            "        )\n",
            "      )\n",
            "    )\n",
            "    (ln_f): LayerNorm((1024,), eps=1e-05, elementwise_affine=True)\n",
            "  )\n",
            "  (lm_head): Linear(in_features=1024, out_features=50257, bias=False)\n",
            ")\n"
          ]
        }
      ]
    },
    {
      "cell_type": "code",
      "source": [
        "# Train function\n",
        "# Train function with tqdm progress bar\n",
        "import torch\n",
        "from tqdm import tqdm\n",
        "import os\n",
        "\n",
        "# Train function with checkpoint saving\n",
        "def train_model(model, train_dataloader, tokenizer, optimizer, num_epochs, device, checkpoint_dir=\"checkpoints\"):\n",
        "    model.train()\n",
        "    total_train_loss = []\n",
        "    best_loss = float('inf')  # Initialize best loss with a very large value\n",
        "\n",
        "    # Ensure the checkpoint directory exists\n",
        "    os.makedirs(checkpoint_dir, exist_ok=True)\n",
        "\n",
        "    for epoch in range(num_epochs):\n",
        "        epoch_loss = 0\n",
        "        # Add tqdm for progress bar\n",
        "        with tqdm(train_dataloader, desc=f\"Epoch {epoch + 1}/{num_epochs}\") as tqdm_loader:\n",
        "            for batch in tqdm_loader:\n",
        "                inputs, labels = batch\n",
        "                inputs, labels = inputs.to(device), labels.to(device)\n",
        "\n",
        "                # Zero gradients\n",
        "                optimizer.zero_grad()\n",
        "\n",
        "                # Forward pass\n",
        "                outputs = model(input_ids=inputs, labels=labels)\n",
        "                loss = outputs.loss  # Use the computed loss from the model\n",
        "\n",
        "                # Backward pass and optimization step\n",
        "                loss.backward()\n",
        "                optimizer.step()\n",
        "\n",
        "                # Track loss\n",
        "                epoch_loss += loss.item()\n",
        "                tqdm_loader.set_postfix({'Loss': loss.item()})\n",
        "\n",
        "        avg_train_loss = epoch_loss / len(train_dataloader)\n",
        "        total_train_loss.append(avg_train_loss)\n",
        "        print(f\"Epoch {epoch + 1}/{num_epochs}, Train Loss: {avg_train_loss:.4f}\")\n",
        "\n",
        "        # Save the model if it has the best loss so far\n",
        "        if avg_train_loss < best_loss:\n",
        "            best_loss = avg_train_loss\n",
        "            checkpoint_path = os.path.join(checkpoint_dir, f'best_model.pth')\n",
        "            torch.save(model.state_dict(), checkpoint_path)\n",
        "            print(f\"Checkpoint saved with train loss: {best_loss:.4f}\")\n",
        "\n",
        "    return total_train_loss, checkpoint_path  # Return the path of the best checkpoint\n",
        "\n",
        "\n",
        "# Test function with checkpoint loading and ROUGE evaluation\n",
        "def test_model(model, test_dataloader, tokenizer, device, checkpoint_path):\n",
        "    # Load the saved best model checkpoint\n",
        "    model.load_state_dict(torch.load(checkpoint_path, map_location=device))\n",
        "    model.eval()\n",
        "    print(f\"Loaded model from checkpoint: {checkpoint_path}\")\n",
        "\n",
        "    rouge = Rouge()\n",
        "    total_rouge_scores = {\"rouge-1\": 0, \"rouge-2\": 0, \"rouge-l\": 0}\n",
        "    count = 0\n",
        "\n",
        "    with torch.no_grad():\n",
        "        # Add tqdm for progress bar\n",
        "        with tqdm(test_dataloader, desc=\"Testing\") as tqdm_loader:\n",
        "            for batch in tqdm_loader:\n",
        "                inputs, labels = batch\n",
        "                inputs = inputs.to(device)\n",
        "\n",
        "                # Generate text using the model\n",
        "                generated = model.generate(input_ids=inputs, max_new_tokens=100)\n",
        "\n",
        "                # Decode both predicted and reference texts\n",
        "                generated_text = tokenizer.decode(generated[0], skip_special_tokens=True)\n",
        "                reference_text = tokenizer.decode(labels[0], skip_special_tokens=True)\n",
        "\n",
        "                # Calculate ROUGE scores\n",
        "                rouge_scores = rouge.get_scores(generated_text, reference_text)[0]\n",
        "                total_rouge_scores[\"rouge-1\"] += rouge_scores[\"rouge-1\"][\"f\"]\n",
        "                total_rouge_scores[\"rouge-2\"] += rouge_scores[\"rouge-2\"][\"f\"]\n",
        "                total_rouge_scores[\"rouge-l\"] += rouge_scores[\"rouge-l\"][\"f\"]\n",
        "                count += 1\n",
        "                tqdm_loader.set_postfix({\n",
        "                    'ROUGE-1': total_rouge_scores[\"rouge-1\"] / count,\n",
        "                    'ROUGE-2': total_rouge_scores[\"rouge-2\"] / count,\n",
        "                    'ROUGE-L': total_rouge_scores[\"rouge-l\"] / count\n",
        "                })\n",
        "\n",
        "    # Average ROUGE scores over all test samples\n",
        "    avg_rouge_scores = {key: score / count for key, score in total_rouge_scores.items()}\n",
        "    return avg_rouge_scores\n",
        "\n",
        "\n",
        "# Plotting function\n",
        "def plot_results(train_loss, rouge_scores):\n",
        "    epochs = range(1, len(train_loss) + 1)\n",
        "\n",
        "    # Plot training loss\n",
        "    plt.figure(figsize=(12, 6))\n",
        "    plt.subplot(1, 2, 1)\n",
        "    plt.plot(epochs, train_loss, 'bo-', label=\"Train Loss\")\n",
        "    plt.title(\"Train Loss Over Epochs\")\n",
        "    plt.xlabel(\"Epochs\")\n",
        "    plt.ylabel(\"Loss\")\n",
        "    plt.legend()\n",
        "\n",
        "    # Plot ROUGE scores\n",
        "    plt.subplot(1, 2, 2)\n",
        "    plt.bar(rouge_scores.keys(), rouge_scores.values())\n",
        "    plt.title(\"Test ROUGE Scores\")\n",
        "    plt.ylabel(\"ROUGE F1 Score\")\n",
        "\n",
        "    plt.tight_layout()\n",
        "    plt.show()\n"
      ],
      "metadata": {
        "id": "xf5o77Lfpfnc"
      },
      "execution_count": 11,
      "outputs": []
    },
    {
      "cell_type": "code",
      "source": [
        "# Optimizer\n",
        "optimizer = torch.optim.AdamW(model.parameters(), lr=0.05)\n",
        "\n",
        "\n",
        "# Example of how to use the functions\n",
        "train_loss, path = train_model(model, train_dataloader, tokenizer, optimizer, num_epochs=35, device=device)\n",
        "rouge_scores = test_model(model, test_dataloader, tokenizer, device, path)\n",
        "\n",
        "# Plot train loss and test ROUGE results\n",
        "plot_results(train_loss, rouge_scores)"
      ],
      "metadata": {
        "colab": {
          "base_uri": "https://localhost:8080/",
          "height": 1000
        },
        "id": "xW-QkXZpqbpc",
        "outputId": "34c5e58d-af9f-4a58-c912-9e2982843db4"
      },
      "execution_count": 12,
      "outputs": [
        {
          "output_type": "stream",
          "name": "stderr",
          "text": [
            "Epoch 1/35: 100%|██████████| 46/46 [00:48<00:00,  1.05s/it, Loss=47.8]\n"
          ]
        },
        {
          "output_type": "stream",
          "name": "stdout",
          "text": [
            "Epoch 1/35, Train Loss: 49.9790\n",
            "Checkpoint saved with train loss: 49.9790\n"
          ]
        },
        {
          "output_type": "stream",
          "name": "stderr",
          "text": [
            "Epoch 2/35: 100%|██████████| 46/46 [00:47<00:00,  1.03s/it, Loss=6.58]\n"
          ]
        },
        {
          "output_type": "stream",
          "name": "stdout",
          "text": [
            "Epoch 2/35, Train Loss: 22.0255\n",
            "Checkpoint saved with train loss: 22.0255\n"
          ]
        },
        {
          "output_type": "stream",
          "name": "stderr",
          "text": [
            "Epoch 3/35: 100%|██████████| 46/46 [00:48<00:00,  1.05s/it, Loss=5.17]\n"
          ]
        },
        {
          "output_type": "stream",
          "name": "stdout",
          "text": [
            "Epoch 3/35, Train Loss: 7.1782\n",
            "Checkpoint saved with train loss: 7.1782\n"
          ]
        },
        {
          "output_type": "stream",
          "name": "stderr",
          "text": [
            "Epoch 4/35: 100%|██████████| 46/46 [00:47<00:00,  1.04s/it, Loss=4.2]\n"
          ]
        },
        {
          "output_type": "stream",
          "name": "stdout",
          "text": [
            "Epoch 4/35, Train Loss: 4.2397\n",
            "Checkpoint saved with train loss: 4.2397\n"
          ]
        },
        {
          "output_type": "stream",
          "name": "stderr",
          "text": [
            "Epoch 5/35: 100%|██████████| 46/46 [00:48<00:00,  1.05s/it, Loss=1.91]\n"
          ]
        },
        {
          "output_type": "stream",
          "name": "stdout",
          "text": [
            "Epoch 5/35, Train Loss: 2.3981\n",
            "Checkpoint saved with train loss: 2.3981\n"
          ]
        },
        {
          "output_type": "stream",
          "name": "stderr",
          "text": [
            "Epoch 6/35: 100%|██████████| 46/46 [00:48<00:00,  1.05s/it, Loss=2.01]\n"
          ]
        },
        {
          "output_type": "stream",
          "name": "stdout",
          "text": [
            "Epoch 6/35, Train Loss: 2.6252\n"
          ]
        },
        {
          "output_type": "stream",
          "name": "stderr",
          "text": [
            "Epoch 7/35: 100%|██████████| 46/46 [00:48<00:00,  1.05s/it, Loss=1.91]\n"
          ]
        },
        {
          "output_type": "stream",
          "name": "stdout",
          "text": [
            "Epoch 7/35, Train Loss: 1.9021\n",
            "Checkpoint saved with train loss: 1.9021\n"
          ]
        },
        {
          "output_type": "stream",
          "name": "stderr",
          "text": [
            "Epoch 8/35: 100%|██████████| 46/46 [00:48<00:00,  1.05s/it, Loss=1.6]\n"
          ]
        },
        {
          "output_type": "stream",
          "name": "stdout",
          "text": [
            "Epoch 8/35, Train Loss: 1.6400\n",
            "Checkpoint saved with train loss: 1.6400\n"
          ]
        },
        {
          "output_type": "stream",
          "name": "stderr",
          "text": [
            "Epoch 9/35: 100%|██████████| 46/46 [00:48<00:00,  1.05s/it, Loss=1.54]\n"
          ]
        },
        {
          "output_type": "stream",
          "name": "stdout",
          "text": [
            "Epoch 9/35, Train Loss: 1.6313\n",
            "Checkpoint saved with train loss: 1.6313\n"
          ]
        },
        {
          "output_type": "stream",
          "name": "stderr",
          "text": [
            "Epoch 10/35: 100%|██████████| 46/46 [00:48<00:00,  1.05s/it, Loss=1.34]\n"
          ]
        },
        {
          "output_type": "stream",
          "name": "stdout",
          "text": [
            "Epoch 10/35, Train Loss: 1.5804\n",
            "Checkpoint saved with train loss: 1.5804\n"
          ]
        },
        {
          "output_type": "stream",
          "name": "stderr",
          "text": [
            "Epoch 11/35: 100%|██████████| 46/46 [00:48<00:00,  1.05s/it, Loss=1.49]\n"
          ]
        },
        {
          "output_type": "stream",
          "name": "stdout",
          "text": [
            "Epoch 11/35, Train Loss: 1.5312\n",
            "Checkpoint saved with train loss: 1.5312\n"
          ]
        },
        {
          "output_type": "stream",
          "name": "stderr",
          "text": [
            "Epoch 12/35: 100%|██████████| 46/46 [00:48<00:00,  1.05s/it, Loss=1.34]\n"
          ]
        },
        {
          "output_type": "stream",
          "name": "stdout",
          "text": [
            "Epoch 12/35, Train Loss: 1.5082\n",
            "Checkpoint saved with train loss: 1.5082\n"
          ]
        },
        {
          "output_type": "stream",
          "name": "stderr",
          "text": [
            "Epoch 13/35: 100%|██████████| 46/46 [00:48<00:00,  1.05s/it, Loss=1.59]\n"
          ]
        },
        {
          "output_type": "stream",
          "name": "stdout",
          "text": [
            "Epoch 13/35, Train Loss: 1.4960\n",
            "Checkpoint saved with train loss: 1.4960\n"
          ]
        },
        {
          "output_type": "stream",
          "name": "stderr",
          "text": [
            "Epoch 14/35: 100%|██████████| 46/46 [00:48<00:00,  1.05s/it, Loss=1.29]\n"
          ]
        },
        {
          "output_type": "stream",
          "name": "stdout",
          "text": [
            "Epoch 14/35, Train Loss: 1.4746\n",
            "Checkpoint saved with train loss: 1.4746\n"
          ]
        },
        {
          "output_type": "stream",
          "name": "stderr",
          "text": [
            "Epoch 15/35: 100%|██████████| 46/46 [00:48<00:00,  1.05s/it, Loss=1.52]\n"
          ]
        },
        {
          "output_type": "stream",
          "name": "stdout",
          "text": [
            "Epoch 15/35, Train Loss: 1.4904\n"
          ]
        },
        {
          "output_type": "stream",
          "name": "stderr",
          "text": [
            "Epoch 16/35: 100%|██████████| 46/46 [00:48<00:00,  1.05s/it, Loss=1.33]\n"
          ]
        },
        {
          "output_type": "stream",
          "name": "stdout",
          "text": [
            "Epoch 16/35, Train Loss: 1.5071\n"
          ]
        },
        {
          "output_type": "stream",
          "name": "stderr",
          "text": [
            "Epoch 17/35: 100%|██████████| 46/46 [00:48<00:00,  1.05s/it, Loss=1.37]\n"
          ]
        },
        {
          "output_type": "stream",
          "name": "stdout",
          "text": [
            "Epoch 17/35, Train Loss: 1.4821\n"
          ]
        },
        {
          "output_type": "stream",
          "name": "stderr",
          "text": [
            "Epoch 18/35: 100%|██████████| 46/46 [00:48<00:00,  1.05s/it, Loss=2.19]\n"
          ]
        },
        {
          "output_type": "stream",
          "name": "stdout",
          "text": [
            "Epoch 18/35, Train Loss: 1.5763\n"
          ]
        },
        {
          "output_type": "stream",
          "name": "stderr",
          "text": [
            "Epoch 19/35: 100%|██████████| 46/46 [00:48<00:00,  1.05s/it, Loss=1.56]\n"
          ]
        },
        {
          "output_type": "stream",
          "name": "stdout",
          "text": [
            "Epoch 19/35, Train Loss: 1.9237\n"
          ]
        },
        {
          "output_type": "stream",
          "name": "stderr",
          "text": [
            "Epoch 20/35: 100%|██████████| 46/46 [00:48<00:00,  1.05s/it, Loss=1.68]\n"
          ]
        },
        {
          "output_type": "stream",
          "name": "stdout",
          "text": [
            "Epoch 20/35, Train Loss: 1.5429\n"
          ]
        },
        {
          "output_type": "stream",
          "name": "stderr",
          "text": [
            "Epoch 21/35: 100%|██████████| 46/46 [00:48<00:00,  1.05s/it, Loss=1.53]\n"
          ]
        },
        {
          "output_type": "stream",
          "name": "stdout",
          "text": [
            "Epoch 21/35, Train Loss: 1.5217\n"
          ]
        },
        {
          "output_type": "stream",
          "name": "stderr",
          "text": [
            "Epoch 22/35: 100%|██████████| 46/46 [00:48<00:00,  1.05s/it, Loss=1.34]\n"
          ]
        },
        {
          "output_type": "stream",
          "name": "stdout",
          "text": [
            "Epoch 22/35, Train Loss: 1.5613\n"
          ]
        },
        {
          "output_type": "stream",
          "name": "stderr",
          "text": [
            "Epoch 23/35: 100%|██████████| 46/46 [00:48<00:00,  1.05s/it, Loss=1.27]\n"
          ]
        },
        {
          "output_type": "stream",
          "name": "stdout",
          "text": [
            "Epoch 23/35, Train Loss: 1.4923\n"
          ]
        },
        {
          "output_type": "stream",
          "name": "stderr",
          "text": [
            "Epoch 24/35: 100%|██████████| 46/46 [00:48<00:00,  1.05s/it, Loss=2.89]\n"
          ]
        },
        {
          "output_type": "stream",
          "name": "stdout",
          "text": [
            "Epoch 24/35, Train Loss: 3.7622\n"
          ]
        },
        {
          "output_type": "stream",
          "name": "stderr",
          "text": [
            "Epoch 25/35: 100%|██████████| 46/46 [00:48<00:00,  1.05s/it, Loss=1.88]\n"
          ]
        },
        {
          "output_type": "stream",
          "name": "stdout",
          "text": [
            "Epoch 25/35, Train Loss: 4.1138\n"
          ]
        },
        {
          "output_type": "stream",
          "name": "stderr",
          "text": [
            "Epoch 26/35: 100%|██████████| 46/46 [00:48<00:00,  1.05s/it, Loss=1.63]\n"
          ]
        },
        {
          "output_type": "stream",
          "name": "stdout",
          "text": [
            "Epoch 26/35, Train Loss: 1.7399\n"
          ]
        },
        {
          "output_type": "stream",
          "name": "stderr",
          "text": [
            "Epoch 27/35: 100%|██████████| 46/46 [00:48<00:00,  1.05s/it, Loss=1.31]\n"
          ]
        },
        {
          "output_type": "stream",
          "name": "stdout",
          "text": [
            "Epoch 27/35, Train Loss: 1.5728\n"
          ]
        },
        {
          "output_type": "stream",
          "name": "stderr",
          "text": [
            "Epoch 28/35: 100%|██████████| 46/46 [00:48<00:00,  1.05s/it, Loss=1.51]\n"
          ]
        },
        {
          "output_type": "stream",
          "name": "stdout",
          "text": [
            "Epoch 28/35, Train Loss: 1.5157\n"
          ]
        },
        {
          "output_type": "stream",
          "name": "stderr",
          "text": [
            "Epoch 29/35: 100%|██████████| 46/46 [00:48<00:00,  1.05s/it, Loss=1.68]\n"
          ]
        },
        {
          "output_type": "stream",
          "name": "stdout",
          "text": [
            "Epoch 29/35, Train Loss: 1.5331\n"
          ]
        },
        {
          "output_type": "stream",
          "name": "stderr",
          "text": [
            "Epoch 30/35: 100%|██████████| 46/46 [00:48<00:00,  1.05s/it, Loss=1.4]\n"
          ]
        },
        {
          "output_type": "stream",
          "name": "stdout",
          "text": [
            "Epoch 30/35, Train Loss: 1.7884\n"
          ]
        },
        {
          "output_type": "stream",
          "name": "stderr",
          "text": [
            "Epoch 31/35: 100%|██████████| 46/46 [00:48<00:00,  1.05s/it, Loss=1.62]\n"
          ]
        },
        {
          "output_type": "stream",
          "name": "stdout",
          "text": [
            "Epoch 31/35, Train Loss: 1.5735\n"
          ]
        },
        {
          "output_type": "stream",
          "name": "stderr",
          "text": [
            "Epoch 32/35: 100%|██████████| 46/46 [00:48<00:00,  1.05s/it, Loss=1.69]\n"
          ]
        },
        {
          "output_type": "stream",
          "name": "stdout",
          "text": [
            "Epoch 32/35, Train Loss: 1.6297\n"
          ]
        },
        {
          "output_type": "stream",
          "name": "stderr",
          "text": [
            "Epoch 33/35: 100%|██████████| 46/46 [00:48<00:00,  1.05s/it, Loss=1.97]\n"
          ]
        },
        {
          "output_type": "stream",
          "name": "stdout",
          "text": [
            "Epoch 33/35, Train Loss: 1.5406\n"
          ]
        },
        {
          "output_type": "stream",
          "name": "stderr",
          "text": [
            "Epoch 34/35: 100%|██████████| 46/46 [00:48<00:00,  1.05s/it, Loss=1.7]\n"
          ]
        },
        {
          "output_type": "stream",
          "name": "stdout",
          "text": [
            "Epoch 34/35, Train Loss: 1.5668\n"
          ]
        },
        {
          "output_type": "stream",
          "name": "stderr",
          "text": [
            "Epoch 35/35: 100%|██████████| 46/46 [00:48<00:00,  1.05s/it, Loss=1.58]\n",
            "<ipython-input-11-a97dd60565fd>:56: FutureWarning: You are using `torch.load` with `weights_only=False` (the current default value), which uses the default pickle module implicitly. It is possible to construct malicious pickle data which will execute arbitrary code during unpickling (See https://github.com/pytorch/pytorch/blob/main/SECURITY.md#untrusted-models for more details). In a future release, the default value for `weights_only` will be flipped to `True`. This limits the functions that could be executed during unpickling. Arbitrary objects will no longer be allowed to be loaded via this mode unless they are explicitly allowlisted by the user via `torch.serialization.add_safe_globals`. We recommend you start setting `weights_only=True` for any use case where you don't have full control of the loaded file. Please open an issue on GitHub for any issues related to this experimental feature.\n",
            "  model.load_state_dict(torch.load(checkpoint_path, map_location=device))\n"
          ]
        },
        {
          "output_type": "stream",
          "name": "stdout",
          "text": [
            "Epoch 35/35, Train Loss: 1.5351\n",
            "Loaded model from checkpoint: checkpoints/best_model.pth\n"
          ]
        },
        {
          "output_type": "stream",
          "name": "stderr",
          "text": [
            "\rTesting:   0%|          | 0/6 [00:00<?, ?it/s]The attention mask and the pad token id were not set. As a consequence, you may observe unexpected behavior. Please pass your input's `attention_mask` to obtain reliable results.\n",
            "Setting `pad_token_id` to `eos_token_id`:50256 for open-end generation.\n",
            "A decoder-only architecture is being used, but right-padding was detected! For correct generation results, please set `padding_side='left'` when initializing the tokenizer.\n",
            "Testing:  17%|█▋        | 1/6 [00:00<00:01,  3.37it/s, ROUGE-1=0.316, ROUGE-2=0.235, ROUGE-L=0.316]The attention mask and the pad token id were not set. As a consequence, you may observe unexpected behavior. Please pass your input's `attention_mask` to obtain reliable results.\n",
            "Setting `pad_token_id` to `eos_token_id`:50256 for open-end generation.\n",
            "A decoder-only architecture is being used, but right-padding was detected! For correct generation results, please set `padding_side='left'` when initializing the tokenizer.\n",
            "Testing:  33%|███▎      | 2/6 [00:00<00:01,  3.31it/s, ROUGE-1=0.389, ROUGE-2=0.299, ROUGE-L=0.389]The attention mask and the pad token id were not set. As a consequence, you may observe unexpected behavior. Please pass your input's `attention_mask` to obtain reliable results.\n",
            "Setting `pad_token_id` to `eos_token_id`:50256 for open-end generation.\n",
            "A decoder-only architecture is being used, but right-padding was detected! For correct generation results, please set `padding_side='left'` when initializing the tokenizer.\n",
            "Testing:  50%|█████     | 3/6 [00:00<00:00,  3.27it/s, ROUGE-1=0.459, ROUGE-2=0.348, ROUGE-L=0.459]The attention mask and the pad token id were not set. As a consequence, you may observe unexpected behavior. Please pass your input's `attention_mask` to obtain reliable results.\n",
            "Setting `pad_token_id` to `eos_token_id`:50256 for open-end generation.\n",
            "A decoder-only architecture is being used, but right-padding was detected! For correct generation results, please set `padding_side='left'` when initializing the tokenizer.\n",
            "Testing:  67%|██████▋   | 4/6 [00:01<00:00,  3.24it/s, ROUGE-1=0.428, ROUGE-2=0.323, ROUGE-L=0.428]The attention mask and the pad token id were not set. As a consequence, you may observe unexpected behavior. Please pass your input's `attention_mask` to obtain reliable results.\n",
            "Setting `pad_token_id` to `eos_token_id`:50256 for open-end generation.\n",
            "A decoder-only architecture is being used, but right-padding was detected! For correct generation results, please set `padding_side='left'` when initializing the tokenizer.\n",
            "Testing:  83%|████████▎ | 5/6 [00:01<00:00,  3.24it/s, ROUGE-1=0.428, ROUGE-2=0.325, ROUGE-L=0.428]The attention mask and the pad token id were not set. As a consequence, you may observe unexpected behavior. Please pass your input's `attention_mask` to obtain reliable results.\n",
            "Setting `pad_token_id` to `eos_token_id`:50256 for open-end generation.\n",
            "A decoder-only architecture is being used, but right-padding was detected! For correct generation results, please set `padding_side='left'` when initializing the tokenizer.\n",
            "Testing: 100%|██████████| 6/6 [00:01<00:00,  3.79it/s, ROUGE-1=0.428, ROUGE-2=0.327, ROUGE-L=0.428]\n"
          ]
        },
        {
          "output_type": "display_data",
          "data": {
            "text/plain": [
              "<Figure size 1200x600 with 2 Axes>"
            ],
            "image/png": "[encoded data removed]"
          },
          "metadata": {}
        }
      ]
    },
    {
      "cell_type": "code",
      "source": [
        "# use the same random seed\n",
        "random_seed = 42\n",
        "random.seed(random_seed)\n",
        "torch.manual_seed(random_seed)\n",
        "\n",
        "\n",
        "def generate_joke(model, tokenizer, input_text, max_length=50):\n",
        "    inputs = tokenizer(input_text, return_tensors=\"pt\").to(model.device)\n",
        "    output = model.generate(inputs['input_ids'], max_length=max_length, num_return_sequences=1, no_repeat_ngram_size=2)\n",
        "    return tokenizer.decode(output[0], skip_special_tokens=True)\n",
        "\n",
        "\n",
        "tokenizer.pad_token = tokenizer.eos_token\n",
        "\n",
        "\n",
        "def generate_joke(model, tokenizer, input_text, max_length=50):\n",
        "    inputs = tokenizer(input_text, return_tensors=\"pt\", padding=True).to(model.device)\n",
        "    attention_mask = inputs['attention_mask']\n",
        "\n",
        "\n",
        "    output = model.generate(inputs['input_ids'], attention_mask=attention_mask,\n",
        "                            max_length=max_length, num_return_sequences=1, no_repeat_ngram_size=2,\n",
        "                            pad_token_id=tokenizer.eos_token_id)\n",
        "    return tokenizer.decode(output[0], skip_special_tokens=True)\n",
        "\n",
        "# comparing with golden label\n",
        "def generate_and_compare(test_data, model, tokenizer, num_examples=5):\n",
        "    for i in range(num_examples):\n",
        "        # Read a sample from test_data (first 3 words as input, sentence as golden label)\n",
        "        example = test_data[i]\n",
        "        full_joke = example['Joke']\n",
        "        three_words_input = ' '.join(full_joke.split()[:3])\n",
        "        golden_label = full_joke\n",
        "\n",
        "        # Jokes generated with the first 3 words\n",
        "        generated_joke = generate_joke(model, tokenizer, three_words_input)\n",
        "\n",
        "        # Comparison\n",
        "        print(f\"Example {i + 1}:\")\n",
        "        print(f\"Three words input: {three_words_input}\")\n",
        "        print(f\"Golden label: {golden_label}\")\n",
        "        print(f\"Generated joke (using first 3 words): {generated_joke}\")\n",
        "        print()\n",
        "\n",
        "# Randomly select three non-consecutive words to generate jokes\n",
        "def generate_random_words_joke(test_data, model, tokenizer, num_examples=5):\n",
        "    for i in range(num_examples):\n",
        "\n",
        "        example = test_data[i]\n",
        "        full_joke = example['Joke']\n",
        "        words = full_joke.split()\n",
        "\n",
        "        # Randomly select three non-consecutive words\n",
        "        random.seed(random_seed)\n",
        "        random_indices = sorted(random.sample(range(len(words)), 3))\n",
        "        random_three_words = ' '.join([words[idx] for idx in random_indices])\n",
        "\n",
        "\n",
        "        random_generated_joke = generate_joke(model, tokenizer, random_three_words)\n",
        "\n",
        "\n",
        "        three_words_input = ' '.join(words[:3])\n",
        "        generated_joke_from_three_words = generate_joke(model, tokenizer, three_words_input)\n",
        "\n",
        "        # Comparison\n",
        "        print(f\"Example {i + 1}:\")\n",
        "        print(f\"Random three words input: {random_three_words}\")\n",
        "        print(f\"Generated joke (using random 3 words): {random_generated_joke}\")\n",
        "        print(f\"Generated joke (using first 3 words): {generated_joke_from_three_words}\")\n",
        "        print(f\"Golden label: {full_joke}\")\n",
        "        print()\n",
        "\n",
        "# 5 examples\n",
        "generate_and_compare(test_data, model, tokenizer, num_examples=5)\n",
        "\n",
        "# 5 examples\n",
        "generate_random_words_joke(test_data, model, tokenizer, num_examples=5)"
      ],
      "metadata": {
        "colab": {
          "base_uri": "https://localhost:8080/"
        },
        "id": "sPtCsXBVy7c3",
        "outputId": "62eb1416-73d4-40ad-8e85-ba1b31d20a0e"
      },
      "execution_count": 13,
      "outputs": [
        {
          "output_type": "stream",
          "name": "stdout",
          "text": [
            "Example 1:\n",
            "Three words input: What do you\n",
            "Golden label: What do you call a woman with one leg? Eileen\n",
            "Generated joke (using first 3 words): What do you you?? of?\n",
            "\n",
            "Example 2:\n",
            "Three words input: What do you\n",
            "Golden label: What do you call a dead fly? a flew\n",
            "Generated joke (using first 3 words): What do you you?? of?\n",
            "\n",
            "Example 3:\n",
            "Three words input: Why should you\n",
            "Golden label: Why should you always bring 2 pair of trousers when golfing? In case you get a hole in one.\n",
            "Generated joke (using first 3 words): Why should you you?? the?\n",
            "\n",
            "Example 4:\n",
            "Three words input: Why don't tennis\n",
            "Golden label: Why don't tennis players get married? Because to them love means nothing.\n",
            "Generated joke (using first 3 words): Why don't tennis?? you? the?\n",
            "\n",
            "Example 5:\n",
            "Three words input: What's red and\n",
            "Golden label: What's red and bad for your teeth? A brick.\n",
            "Generated joke (using first 3 words): What's red and?? the?\n",
            "\n",
            "Example 1:\n",
            "Random three words input: What do a\n",
            "Generated joke (using random 3 words): What do a you?? of?\n",
            "Generated joke (using first 3 words): What do you you?? of?\n",
            "Golden label: What do you call a woman with one leg? Eileen\n",
            "\n",
            "Example 2:\n",
            "Random three words input: What do dead\n",
            "Generated joke (using random 3 words): What do dead you you?? of\n",
            "Generated joke (using first 3 words): What do you you?? of?\n",
            "Golden label: What do you call a dead fly? a flew\n",
            "\n",
            "Example 3:\n",
            "Random three words input: Why always trousers\n",
            "Generated joke (using random 3 words): Why always trousers you you?? the?\n",
            "Generated joke (using first 3 words): Why should you you?? the?\n",
            "Golden label: Why should you always bring 2 pair of trousers when golfing? In case you get a hole in one.\n",
            "\n",
            "Example 4:\n",
            "Random three words input: Why don't means\n",
            "Generated joke (using random 3 words): Why don't means?? the?.\n",
            "Generated joke (using first 3 words): Why don't tennis?? you? the?\n",
            "Golden label: Why don't tennis players get married? Because to them love means nothing.\n",
            "\n",
            "Example 5:\n",
            "Random three words input: What's red your\n",
            "Generated joke (using random 3 words): What's red your?? the?\n",
            "Generated joke (using first 3 words): What's red and?? the?\n",
            "Golden label: What's red and bad for your teeth? A brick.\n",
            "\n"
          ]
        }
      ]
    }
  ]
}